{
 "cells": [
  {
   "cell_type": "code",
   "execution_count": 2,
   "id": "84252929",
   "metadata": {},
   "outputs": [
    {
     "name": "stdout",
     "output_type": "stream",
     "text": [
      "Ultralytics 8.3.111 🚀 Python-3.10.12 torch-2.6.0+cu118 CUDA:0 (NVIDIA GeForce RTX 4070 Laptop GPU, 7933MiB)\n",
      "Setup complete ✅ (24 CPUs, 31.0 GB RAM, 60.8/95.6 GB disk)\n"
     ]
    }
   ],
   "source": [
    "\n",
    "import ultralytics\n",
    "ultralytics.checks()"
   ]
  },
  {
   "cell_type": "code",
   "execution_count": null,
   "id": "b03a98c1",
   "metadata": {},
   "outputs": [
    {
     "name": "stderr",
     "output_type": "stream",
     "text": [
      "/home/chandhan/.local/lib/python3.10/site-packages/matplotlib/projections/__init__.py:63: UserWarning: Unable to import Axes3D. This may be due to multiple versions of Matplotlib being installed (e.g. as a system package and as a pip package). As a result, the 3D projection is not available.\n",
      "  warnings.warn(\"Unable to import Axes3D. This may be due to multiple versions of \"\n"
     ]
    },
    {
     "name": "stdout",
     "output_type": "stream",
     "text": [
      "New https://pypi.org/project/ultralytics/8.3.114 available 😃 Update with 'pip install -U ultralytics'\n",
      "Ultralytics 8.3.111 🚀 Python-3.10.12 torch-2.6.0+cu118 CUDA:0 (NVIDIA GeForce RTX 4070 Laptop GPU, 7933MiB)\n",
      "\u001b[34m\u001b[1mengine/trainer: \u001b[0mtask=detect, mode=train, model=/home/chandhan/Desktop/runs/detect/train39/weights/best.pt, data=/home/chandhan/Downloads/dataset_april_22_0/data.yaml, epochs=10, time=None, patience=30, batch=12, imgsz=640, save=True, save_period=-1, cache=False, device=0, workers=8, project=None, name=train41, exist_ok=False, pretrained=True, optimizer=auto, verbose=True, seed=0, deterministic=True, single_cls=False, rect=False, cos_lr=False, close_mosaic=10, resume=False, amp=True, fraction=1.0, profile=False, freeze=None, multi_scale=False, overlap_mask=True, mask_ratio=4, dropout=0.0, val=True, split=val, save_json=False, conf=None, iou=0.7, max_det=300, half=False, dnn=False, plots=True, source=None, vid_stride=1, stream_buffer=False, visualize=False, augment=False, agnostic_nms=False, classes=None, retina_masks=False, embed=None, show=False, save_frames=False, save_txt=False, save_conf=False, save_crop=False, show_labels=True, show_conf=True, show_boxes=True, line_width=None, format=torchscript, keras=False, optimize=False, int8=False, dynamic=False, simplify=True, opset=None, workspace=None, nms=False, lr0=0.01, lrf=0.01, momentum=0.937, weight_decay=0.0005, warmup_epochs=3.0, warmup_momentum=0.8, warmup_bias_lr=0.1, box=7.5, cls=0.5, dfl=1.5, pose=12.0, kobj=1.0, nbs=64, hsv_h=0.015, hsv_s=0.7, hsv_v=0.4, degrees=0.0, translate=0.1, scale=0.5, shear=0.0, perspective=0.0, flipud=0.0, fliplr=0.5, bgr=0.0, mosaic=1.0, mixup=0.0, copy_paste=0.0, copy_paste_mode=flip, auto_augment=randaugment, erasing=0.4, cfg=None, tracker=botsort.yaml, save_dir=runs/detect/train41\n",
      "Overriding model.yaml nc=8 with nc=2\n",
      "\n",
      "                   from  n    params  module                                       arguments                     \n",
      "  0                  -1  1      1856  ultralytics.nn.modules.conv.Conv             [3, 64, 3, 2]                 \n",
      "  1                  -1  1     73984  ultralytics.nn.modules.conv.Conv             [64, 128, 3, 2]               \n",
      "  2                  -1  1    111872  ultralytics.nn.modules.block.C3k2            [128, 256, 1, True, 0.25]     \n",
      "  3                  -1  1    590336  ultralytics.nn.modules.conv.Conv             [256, 256, 3, 2]              \n",
      "  4                  -1  1    444928  ultralytics.nn.modules.block.C3k2            [256, 512, 1, True, 0.25]     \n",
      "  5                  -1  1   2360320  ultralytics.nn.modules.conv.Conv             [512, 512, 3, 2]              \n",
      "  6                  -1  1   1380352  ultralytics.nn.modules.block.C3k2            [512, 512, 1, True]           \n",
      "  7                  -1  1   2360320  ultralytics.nn.modules.conv.Conv             [512, 512, 3, 2]              \n",
      "  8                  -1  1   1380352  ultralytics.nn.modules.block.C3k2            [512, 512, 1, True]           \n",
      "  9                  -1  1    656896  ultralytics.nn.modules.block.SPPF            [512, 512, 5]                 \n",
      " 10                  -1  1    990976  ultralytics.nn.modules.block.C2PSA           [512, 512, 1]                 \n",
      " 11                  -1  1         0  torch.nn.modules.upsampling.Upsample         [None, 2, 'nearest']          \n",
      " 12             [-1, 6]  1         0  ultralytics.nn.modules.conv.Concat           [1]                           \n",
      " 13                  -1  1   1642496  ultralytics.nn.modules.block.C3k2            [1024, 512, 1, True]          \n",
      " 14                  -1  1         0  torch.nn.modules.upsampling.Upsample         [None, 2, 'nearest']          \n",
      " 15             [-1, 4]  1         0  ultralytics.nn.modules.conv.Concat           [1]                           \n",
      " 16                  -1  1    542720  ultralytics.nn.modules.block.C3k2            [1024, 256, 1, True]          \n",
      " 17                  -1  1    590336  ultralytics.nn.modules.conv.Conv             [256, 256, 3, 2]              \n",
      " 18            [-1, 13]  1         0  ultralytics.nn.modules.conv.Concat           [1]                           \n",
      " 19                  -1  1   1511424  ultralytics.nn.modules.block.C3k2            [768, 512, 1, True]           \n",
      " 20                  -1  1   2360320  ultralytics.nn.modules.conv.Conv             [512, 512, 3, 2]              \n",
      " 21            [-1, 10]  1         0  ultralytics.nn.modules.conv.Concat           [1]                           \n",
      " 22                  -1  1   1642496  ultralytics.nn.modules.block.C3k2            [1024, 512, 1, True]          \n",
      " 23        [16, 19, 22]  1   1412566  ultralytics.nn.modules.head.Detect           [2, [256, 512, 512]]          \n",
      "YOLO11m summary: 231 layers, 20,054,550 parameters, 20,054,534 gradients, 68.2 GFLOPs\n",
      "\n",
      "Transferred 643/649 items from pretrained weights\n",
      "Freezing layer 'model.23.dfl.conv.weight'\n",
      "\u001b[34m\u001b[1mAMP: \u001b[0mrunning Automatic Mixed Precision (AMP) checks...\n",
      "\u001b[34m\u001b[1mAMP: \u001b[0mchecks passed ✅\n",
      "\u001b[34m\u001b[1mtrain: \u001b[0mFast image access ✅ (ping: 0.1±0.1 ms, read: 120.4±22.3 MB/s, size: 25.0 KB)\n"
     ]
    },
    {
     "name": "stderr",
     "output_type": "stream",
     "text": [
      "\u001b[34m\u001b[1mtrain: \u001b[0mScanning /home/chandhan/Downloads/dataset_april_22_0/train/labels.cache... 4540 images, 211 backgrounds, 0 corrupt: 100%|██████████| 4540/4540 [00:00<?, ?it/s]"
     ]
    },
    {
     "name": "stdout",
     "output_type": "stream",
     "text": [
      "\u001b[34m\u001b[1mtrain: \u001b[0mWARNING ⚠️ /home/chandhan/Downloads/dataset_april_22_0/train/images/img_0631_jpg.rf.52e1f4265ed12ec1e0f8d24486f46cad.jpg: 1 duplicate labels removed\n",
      "WARNING ⚠️ Box and segment counts should be equal, but got len(segments) = 7804, len(boxes) = 8086. To resolve this only boxes will be used and all segments will be removed. To avoid this please supply either a detect or segment dataset, not a detect-segment mixed dataset.\n"
     ]
    },
    {
     "name": "stderr",
     "output_type": "stream",
     "text": [
      "\n"
     ]
    },
    {
     "name": "stdout",
     "output_type": "stream",
     "text": [
      "\u001b[34m\u001b[1mval: \u001b[0mFast image access ✅ (ping: 0.0±0.1 ms, read: 190.5±83.0 MB/s, size: 25.6 KB)\n"
     ]
    },
    {
     "name": "stderr",
     "output_type": "stream",
     "text": [
      "\u001b[34m\u001b[1mval: \u001b[0mScanning /home/chandhan/Downloads/dataset_april_22_0/valid/labels.cache... 657 images, 26 backgrounds, 0 corrupt: 100%|██████████| 657/657 [00:00<?, ?it/s]"
     ]
    },
    {
     "name": "stdout",
     "output_type": "stream",
     "text": [
      "WARNING ⚠️ Box and segment counts should be equal, but got len(segments) = 1049, len(boxes) = 1094. To resolve this only boxes will be used and all segments will be removed. To avoid this please supply either a detect or segment dataset, not a detect-segment mixed dataset.\n"
     ]
    },
    {
     "name": "stderr",
     "output_type": "stream",
     "text": [
      "\n"
     ]
    },
    {
     "name": "stdout",
     "output_type": "stream",
     "text": [
      "Plotting labels to runs/detect/train41/labels.jpg... \n",
      "\u001b[34m\u001b[1moptimizer:\u001b[0m 'optimizer=auto' found, ignoring 'lr0=0.01' and 'momentum=0.937' and determining best 'optimizer', 'lr0' and 'momentum' automatically... \n",
      "\u001b[34m\u001b[1moptimizer:\u001b[0m AdamW(lr=0.001667, momentum=0.9) with parameter groups 106 weight(decay=0.0), 113 weight(decay=0.00046875), 112 bias(decay=0.0)\n",
      "Image sizes 640 train, 640 val\n",
      "Using 8 dataloader workers\n",
      "Logging results to \u001b[1mruns/detect/train41\u001b[0m\n",
      "Starting training for 10 epochs...\n",
      "Closing dataloader mosaic\n",
      "\n",
      "      Epoch    GPU_mem   box_loss   cls_loss   dfl_loss  Instances       Size\n"
     ]
    },
    {
     "name": "stderr",
     "output_type": "stream",
     "text": [
      "       1/10      6.04G     0.8733       1.43      1.243          5        640: 100%|██████████| 379/379 [01:47<00:00,  3.52it/s]\n",
      "                 Class     Images  Instances      Box(P          R      mAP50  mAP50-95): 100%|██████████| 28/28 [00:05<00:00,  4.90it/s]"
     ]
    },
    {
     "name": "stdout",
     "output_type": "stream",
     "text": [
      "                   all        657       1094      0.816      0.797      0.872      0.665\n"
     ]
    },
    {
     "name": "stderr",
     "output_type": "stream",
     "text": [
      "\n"
     ]
    },
    {
     "name": "stdout",
     "output_type": "stream",
     "text": [
      "\n",
      "      Epoch    GPU_mem   box_loss   cls_loss   dfl_loss  Instances       Size\n"
     ]
    },
    {
     "name": "stderr",
     "output_type": "stream",
     "text": [
      "       2/10      6.21G     0.7367     0.6705       1.12          5        640: 100%|██████████| 379/379 [01:45<00:00,  3.59it/s]\n",
      "                 Class     Images  Instances      Box(P          R      mAP50  mAP50-95): 100%|██████████| 28/28 [00:05<00:00,  4.92it/s]"
     ]
    },
    {
     "name": "stdout",
     "output_type": "stream",
     "text": [
      "                   all        657       1094      0.821      0.814      0.894      0.685\n"
     ]
    },
    {
     "name": "stderr",
     "output_type": "stream",
     "text": [
      "\n"
     ]
    },
    {
     "name": "stdout",
     "output_type": "stream",
     "text": [
      "\n",
      "      Epoch    GPU_mem   box_loss   cls_loss   dfl_loss  Instances       Size\n"
     ]
    },
    {
     "name": "stderr",
     "output_type": "stream",
     "text": [
      "       3/10      6.26G      0.706     0.6167      1.096          9        640: 100%|██████████| 379/379 [01:45<00:00,  3.61it/s]\n",
      "                 Class     Images  Instances      Box(P          R      mAP50  mAP50-95): 100%|██████████| 28/28 [00:05<00:00,  4.92it/s]"
     ]
    },
    {
     "name": "stdout",
     "output_type": "stream",
     "text": [
      "                   all        657       1094      0.799      0.834      0.891      0.678\n"
     ]
    },
    {
     "name": "stderr",
     "output_type": "stream",
     "text": [
      "\n"
     ]
    },
    {
     "name": "stdout",
     "output_type": "stream",
     "text": [
      "\n",
      "      Epoch    GPU_mem   box_loss   cls_loss   dfl_loss  Instances       Size\n"
     ]
    },
    {
     "name": "stderr",
     "output_type": "stream",
     "text": [
      "       4/10       6.2G     0.6919     0.5879      1.086          8        640: 100%|██████████| 379/379 [01:44<00:00,  3.61it/s]\n",
      "                 Class     Images  Instances      Box(P          R      mAP50  mAP50-95): 100%|██████████| 28/28 [00:05<00:00,  4.92it/s]"
     ]
    },
    {
     "name": "stdout",
     "output_type": "stream",
     "text": [
      "                   all        657       1094       0.83      0.805      0.895      0.689\n"
     ]
    },
    {
     "name": "stderr",
     "output_type": "stream",
     "text": [
      "\n"
     ]
    },
    {
     "name": "stdout",
     "output_type": "stream",
     "text": [
      "\n",
      "      Epoch    GPU_mem   box_loss   cls_loss   dfl_loss  Instances       Size\n"
     ]
    },
    {
     "name": "stderr",
     "output_type": "stream",
     "text": [
      "       5/10      6.18G     0.6597     0.5562      1.063          7        640: 100%|██████████| 379/379 [01:44<00:00,  3.62it/s]\n",
      "                 Class     Images  Instances      Box(P          R      mAP50  mAP50-95): 100%|██████████| 28/28 [00:05<00:00,  4.92it/s]"
     ]
    },
    {
     "name": "stdout",
     "output_type": "stream",
     "text": [
      "                   all        657       1094      0.834      0.796      0.894      0.698\n"
     ]
    },
    {
     "name": "stderr",
     "output_type": "stream",
     "text": [
      "\n"
     ]
    },
    {
     "name": "stdout",
     "output_type": "stream",
     "text": [
      "\n",
      "      Epoch    GPU_mem   box_loss   cls_loss   dfl_loss  Instances       Size\n"
     ]
    },
    {
     "name": "stderr",
     "output_type": "stream",
     "text": [
      "       6/10       6.2G      0.645     0.5289      1.056         16        640: 100%|██████████| 379/379 [01:44<00:00,  3.62it/s]\n",
      "                 Class     Images  Instances      Box(P          R      mAP50  mAP50-95): 100%|██████████| 28/28 [00:05<00:00,  4.92it/s]"
     ]
    },
    {
     "name": "stdout",
     "output_type": "stream",
     "text": [
      "                   all        657       1094      0.834      0.833      0.904      0.704\n"
     ]
    },
    {
     "name": "stderr",
     "output_type": "stream",
     "text": [
      "\n"
     ]
    },
    {
     "name": "stdout",
     "output_type": "stream",
     "text": [
      "\n",
      "      Epoch    GPU_mem   box_loss   cls_loss   dfl_loss  Instances       Size\n"
     ]
    },
    {
     "name": "stderr",
     "output_type": "stream",
     "text": [
      "       7/10      6.21G     0.6164     0.5017      1.035          7        640: 100%|██████████| 379/379 [01:44<00:00,  3.62it/s]\n",
      "                 Class     Images  Instances      Box(P          R      mAP50  mAP50-95): 100%|██████████| 28/28 [00:05<00:00,  4.92it/s]"
     ]
    },
    {
     "name": "stdout",
     "output_type": "stream",
     "text": [
      "                   all        657       1094      0.824      0.824      0.903      0.715\n"
     ]
    },
    {
     "name": "stderr",
     "output_type": "stream",
     "text": [
      "\n"
     ]
    },
    {
     "name": "stdout",
     "output_type": "stream",
     "text": [
      "\n",
      "      Epoch    GPU_mem   box_loss   cls_loss   dfl_loss  Instances       Size\n"
     ]
    },
    {
     "name": "stderr",
     "output_type": "stream",
     "text": [
      "       8/10       6.2G      0.611     0.4838      1.037          5        640: 100%|██████████| 379/379 [01:44<00:00,  3.62it/s]\n",
      "                 Class     Images  Instances      Box(P          R      mAP50  mAP50-95): 100%|██████████| 28/28 [00:05<00:00,  4.92it/s]"
     ]
    },
    {
     "name": "stdout",
     "output_type": "stream",
     "text": [
      "                   all        657       1094       0.82      0.837      0.907      0.721\n"
     ]
    },
    {
     "name": "stderr",
     "output_type": "stream",
     "text": [
      "\n"
     ]
    },
    {
     "name": "stdout",
     "output_type": "stream",
     "text": [
      "\n",
      "      Epoch    GPU_mem   box_loss   cls_loss   dfl_loss  Instances       Size\n"
     ]
    },
    {
     "name": "stderr",
     "output_type": "stream",
     "text": [
      "       9/10       6.2G     0.5885     0.4646      1.019          6        640: 100%|██████████| 379/379 [01:44<00:00,  3.61it/s]\n",
      "                 Class     Images  Instances      Box(P          R      mAP50  mAP50-95): 100%|██████████| 28/28 [00:05<00:00,  4.92it/s]"
     ]
    },
    {
     "name": "stdout",
     "output_type": "stream",
     "text": [
      "                   all        657       1094      0.811      0.853      0.909      0.727\n"
     ]
    },
    {
     "name": "stderr",
     "output_type": "stream",
     "text": [
      "\n"
     ]
    },
    {
     "name": "stdout",
     "output_type": "stream",
     "text": [
      "\n",
      "      Epoch    GPU_mem   box_loss   cls_loss   dfl_loss  Instances       Size\n"
     ]
    },
    {
     "name": "stderr",
     "output_type": "stream",
     "text": [
      "      10/10      6.19G     0.5793     0.4504      1.013          8        640: 100%|██████████| 379/379 [01:44<00:00,  3.62it/s]\n",
      "                 Class     Images  Instances      Box(P          R      mAP50  mAP50-95): 100%|██████████| 28/28 [00:05<00:00,  4.93it/s]"
     ]
    },
    {
     "name": "stdout",
     "output_type": "stream",
     "text": [
      "                   all        657       1094      0.818      0.844      0.911      0.733\n"
     ]
    },
    {
     "name": "stderr",
     "output_type": "stream",
     "text": [
      "\n"
     ]
    },
    {
     "name": "stdout",
     "output_type": "stream",
     "text": [
      "\n",
      "10 epochs completed in 0.310 hours.\n",
      "Optimizer stripped from runs/detect/train41/weights/last.pt, 40.5MB\n",
      "Optimizer stripped from runs/detect/train41/weights/best.pt, 40.5MB\n",
      "\n",
      "Validating runs/detect/train41/weights/best.pt...\n",
      "Ultralytics 8.3.111 🚀 Python-3.10.12 torch-2.6.0+cu118 CUDA:0 (NVIDIA GeForce RTX 4070 Laptop GPU, 7933MiB)\n",
      "YOLO11m summary (fused): 125 layers, 20,031,574 parameters, 0 gradients, 67.7 GFLOPs\n"
     ]
    },
    {
     "name": "stderr",
     "output_type": "stream",
     "text": [
      "                 Class     Images  Instances      Box(P          R      mAP50  mAP50-95): 100%|██████████| 28/28 [00:05<00:00,  5.19it/s]\n"
     ]
    },
    {
     "name": "stdout",
     "output_type": "stream",
     "text": [
      "                   all        657       1094      0.818      0.844      0.911      0.732\n",
      "                pallet        631       1094      0.818      0.844      0.911      0.732\n",
      "Speed: 0.3ms preprocess, 6.8ms inference, 0.0ms loss, 0.3ms postprocess per image\n",
      "Results saved to \u001b[1mruns/detect/train41\u001b[0m\n"
     ]
    },
    {
     "data": {
      "text/plain": [
       "ultralytics.utils.metrics.DetMetrics object with attributes:\n",
       "\n",
       "ap_class_index: array([1])\n",
       "box: ultralytics.utils.metrics.Metric object\n",
       "confusion_matrix: <ultralytics.utils.metrics.ConfusionMatrix object at 0x70e110235360>\n",
       "curves: ['Precision-Recall(B)', 'F1-Confidence(B)', 'Precision-Confidence(B)', 'Recall-Confidence(B)']\n",
       "curves_results: [[array([          0,    0.001001,    0.002002,    0.003003,    0.004004,    0.005005,    0.006006,    0.007007,    0.008008,    0.009009,     0.01001,    0.011011,    0.012012,    0.013013,    0.014014,    0.015015,    0.016016,    0.017017,    0.018018,    0.019019,     0.02002,    0.021021,    0.022022,    0.023023,\n",
       "          0.024024,    0.025025,    0.026026,    0.027027,    0.028028,    0.029029,     0.03003,    0.031031,    0.032032,    0.033033,    0.034034,    0.035035,    0.036036,    0.037037,    0.038038,    0.039039,     0.04004,    0.041041,    0.042042,    0.043043,    0.044044,    0.045045,    0.046046,    0.047047,\n",
       "          0.048048,    0.049049,     0.05005,    0.051051,    0.052052,    0.053053,    0.054054,    0.055055,    0.056056,    0.057057,    0.058058,    0.059059,     0.06006,    0.061061,    0.062062,    0.063063,    0.064064,    0.065065,    0.066066,    0.067067,    0.068068,    0.069069,     0.07007,    0.071071,\n",
       "          0.072072,    0.073073,    0.074074,    0.075075,    0.076076,    0.077077,    0.078078,    0.079079,     0.08008,    0.081081,    0.082082,    0.083083,    0.084084,    0.085085,    0.086086,    0.087087,    0.088088,    0.089089,     0.09009,    0.091091,    0.092092,    0.093093,    0.094094,    0.095095,\n",
       "          0.096096,    0.097097,    0.098098,    0.099099,      0.1001,      0.1011,      0.1021,      0.1031,      0.1041,     0.10511,     0.10611,     0.10711,     0.10811,     0.10911,     0.11011,     0.11111,     0.11211,     0.11311,     0.11411,     0.11512,     0.11612,     0.11712,     0.11812,     0.11912,\n",
       "           0.12012,     0.12112,     0.12212,     0.12312,     0.12412,     0.12513,     0.12613,     0.12713,     0.12813,     0.12913,     0.13013,     0.13113,     0.13213,     0.13313,     0.13413,     0.13514,     0.13614,     0.13714,     0.13814,     0.13914,     0.14014,     0.14114,     0.14214,     0.14314,\n",
       "           0.14414,     0.14515,     0.14615,     0.14715,     0.14815,     0.14915,     0.15015,     0.15115,     0.15215,     0.15315,     0.15415,     0.15516,     0.15616,     0.15716,     0.15816,     0.15916,     0.16016,     0.16116,     0.16216,     0.16316,     0.16416,     0.16517,     0.16617,     0.16717,\n",
       "           0.16817,     0.16917,     0.17017,     0.17117,     0.17217,     0.17317,     0.17417,     0.17518,     0.17618,     0.17718,     0.17818,     0.17918,     0.18018,     0.18118,     0.18218,     0.18318,     0.18418,     0.18519,     0.18619,     0.18719,     0.18819,     0.18919,     0.19019,     0.19119,\n",
       "           0.19219,     0.19319,     0.19419,      0.1952,      0.1962,      0.1972,      0.1982,      0.1992,      0.2002,      0.2012,      0.2022,      0.2032,      0.2042,     0.20521,     0.20621,     0.20721,     0.20821,     0.20921,     0.21021,     0.21121,     0.21221,     0.21321,     0.21421,     0.21522,\n",
       "           0.21622,     0.21722,     0.21822,     0.21922,     0.22022,     0.22122,     0.22222,     0.22322,     0.22422,     0.22523,     0.22623,     0.22723,     0.22823,     0.22923,     0.23023,     0.23123,     0.23223,     0.23323,     0.23423,     0.23524,     0.23624,     0.23724,     0.23824,     0.23924,\n",
       "           0.24024,     0.24124,     0.24224,     0.24324,     0.24424,     0.24525,     0.24625,     0.24725,     0.24825,     0.24925,     0.25025,     0.25125,     0.25225,     0.25325,     0.25425,     0.25526,     0.25626,     0.25726,     0.25826,     0.25926,     0.26026,     0.26126,     0.26226,     0.26326,\n",
       "           0.26426,     0.26527,     0.26627,     0.26727,     0.26827,     0.26927,     0.27027,     0.27127,     0.27227,     0.27327,     0.27427,     0.27528,     0.27628,     0.27728,     0.27828,     0.27928,     0.28028,     0.28128,     0.28228,     0.28328,     0.28428,     0.28529,     0.28629,     0.28729,\n",
       "           0.28829,     0.28929,     0.29029,     0.29129,     0.29229,     0.29329,     0.29429,      0.2953,      0.2963,      0.2973,      0.2983,      0.2993,      0.3003,      0.3013,      0.3023,      0.3033,      0.3043,     0.30531,     0.30631,     0.30731,     0.30831,     0.30931,     0.31031,     0.31131,\n",
       "           0.31231,     0.31331,     0.31431,     0.31532,     0.31632,     0.31732,     0.31832,     0.31932,     0.32032,     0.32132,     0.32232,     0.32332,     0.32432,     0.32533,     0.32633,     0.32733,     0.32833,     0.32933,     0.33033,     0.33133,     0.33233,     0.33333,     0.33433,     0.33534,\n",
       "           0.33634,     0.33734,     0.33834,     0.33934,     0.34034,     0.34134,     0.34234,     0.34334,     0.34434,     0.34535,     0.34635,     0.34735,     0.34835,     0.34935,     0.35035,     0.35135,     0.35235,     0.35335,     0.35435,     0.35536,     0.35636,     0.35736,     0.35836,     0.35936,\n",
       "           0.36036,     0.36136,     0.36236,     0.36336,     0.36436,     0.36537,     0.36637,     0.36737,     0.36837,     0.36937,     0.37037,     0.37137,     0.37237,     0.37337,     0.37437,     0.37538,     0.37638,     0.37738,     0.37838,     0.37938,     0.38038,     0.38138,     0.38238,     0.38338,\n",
       "           0.38438,     0.38539,     0.38639,     0.38739,     0.38839,     0.38939,     0.39039,     0.39139,     0.39239,     0.39339,     0.39439,      0.3954,      0.3964,      0.3974,      0.3984,      0.3994,      0.4004,      0.4014,      0.4024,      0.4034,      0.4044,     0.40541,     0.40641,     0.40741,\n",
       "           0.40841,     0.40941,     0.41041,     0.41141,     0.41241,     0.41341,     0.41441,     0.41542,     0.41642,     0.41742,     0.41842,     0.41942,     0.42042,     0.42142,     0.42242,     0.42342,     0.42442,     0.42543,     0.42643,     0.42743,     0.42843,     0.42943,     0.43043,     0.43143,\n",
       "           0.43243,     0.43343,     0.43443,     0.43544,     0.43644,     0.43744,     0.43844,     0.43944,     0.44044,     0.44144,     0.44244,     0.44344,     0.44444,     0.44545,     0.44645,     0.44745,     0.44845,     0.44945,     0.45045,     0.45145,     0.45245,     0.45345,     0.45445,     0.45546,\n",
       "           0.45646,     0.45746,     0.45846,     0.45946,     0.46046,     0.46146,     0.46246,     0.46346,     0.46446,     0.46547,     0.46647,     0.46747,     0.46847,     0.46947,     0.47047,     0.47147,     0.47247,     0.47347,     0.47447,     0.47548,     0.47648,     0.47748,     0.47848,     0.47948,\n",
       "           0.48048,     0.48148,     0.48248,     0.48348,     0.48448,     0.48549,     0.48649,     0.48749,     0.48849,     0.48949,     0.49049,     0.49149,     0.49249,     0.49349,     0.49449,      0.4955,      0.4965,      0.4975,      0.4985,      0.4995,      0.5005,      0.5015,      0.5025,      0.5035,\n",
       "            0.5045,     0.50551,     0.50651,     0.50751,     0.50851,     0.50951,     0.51051,     0.51151,     0.51251,     0.51351,     0.51451,     0.51552,     0.51652,     0.51752,     0.51852,     0.51952,     0.52052,     0.52152,     0.52252,     0.52352,     0.52452,     0.52553,     0.52653,     0.52753,\n",
       "           0.52853,     0.52953,     0.53053,     0.53153,     0.53253,     0.53353,     0.53453,     0.53554,     0.53654,     0.53754,     0.53854,     0.53954,     0.54054,     0.54154,     0.54254,     0.54354,     0.54454,     0.54555,     0.54655,     0.54755,     0.54855,     0.54955,     0.55055,     0.55155,\n",
       "           0.55255,     0.55355,     0.55455,     0.55556,     0.55656,     0.55756,     0.55856,     0.55956,     0.56056,     0.56156,     0.56256,     0.56356,     0.56456,     0.56557,     0.56657,     0.56757,     0.56857,     0.56957,     0.57057,     0.57157,     0.57257,     0.57357,     0.57457,     0.57558,\n",
       "           0.57658,     0.57758,     0.57858,     0.57958,     0.58058,     0.58158,     0.58258,     0.58358,     0.58458,     0.58559,     0.58659,     0.58759,     0.58859,     0.58959,     0.59059,     0.59159,     0.59259,     0.59359,     0.59459,      0.5956,      0.5966,      0.5976,      0.5986,      0.5996,\n",
       "            0.6006,      0.6016,      0.6026,      0.6036,      0.6046,     0.60561,     0.60661,     0.60761,     0.60861,     0.60961,     0.61061,     0.61161,     0.61261,     0.61361,     0.61461,     0.61562,     0.61662,     0.61762,     0.61862,     0.61962,     0.62062,     0.62162,     0.62262,     0.62362,\n",
       "           0.62462,     0.62563,     0.62663,     0.62763,     0.62863,     0.62963,     0.63063,     0.63163,     0.63263,     0.63363,     0.63463,     0.63564,     0.63664,     0.63764,     0.63864,     0.63964,     0.64064,     0.64164,     0.64264,     0.64364,     0.64464,     0.64565,     0.64665,     0.64765,\n",
       "           0.64865,     0.64965,     0.65065,     0.65165,     0.65265,     0.65365,     0.65465,     0.65566,     0.65666,     0.65766,     0.65866,     0.65966,     0.66066,     0.66166,     0.66266,     0.66366,     0.66466,     0.66567,     0.66667,     0.66767,     0.66867,     0.66967,     0.67067,     0.67167,\n",
       "           0.67267,     0.67367,     0.67467,     0.67568,     0.67668,     0.67768,     0.67868,     0.67968,     0.68068,     0.68168,     0.68268,     0.68368,     0.68468,     0.68569,     0.68669,     0.68769,     0.68869,     0.68969,     0.69069,     0.69169,     0.69269,     0.69369,     0.69469,      0.6957,\n",
       "            0.6967,      0.6977,      0.6987,      0.6997,      0.7007,      0.7017,      0.7027,      0.7037,      0.7047,     0.70571,     0.70671,     0.70771,     0.70871,     0.70971,     0.71071,     0.71171,     0.71271,     0.71371,     0.71471,     0.71572,     0.71672,     0.71772,     0.71872,     0.71972,\n",
       "           0.72072,     0.72172,     0.72272,     0.72372,     0.72472,     0.72573,     0.72673,     0.72773,     0.72873,     0.72973,     0.73073,     0.73173,     0.73273,     0.73373,     0.73473,     0.73574,     0.73674,     0.73774,     0.73874,     0.73974,     0.74074,     0.74174,     0.74274,     0.74374,\n",
       "           0.74474,     0.74575,     0.74675,     0.74775,     0.74875,     0.74975,     0.75075,     0.75175,     0.75275,     0.75375,     0.75475,     0.75576,     0.75676,     0.75776,     0.75876,     0.75976,     0.76076,     0.76176,     0.76276,     0.76376,     0.76476,     0.76577,     0.76677,     0.76777,\n",
       "           0.76877,     0.76977,     0.77077,     0.77177,     0.77277,     0.77377,     0.77477,     0.77578,     0.77678,     0.77778,     0.77878,     0.77978,     0.78078,     0.78178,     0.78278,     0.78378,     0.78478,     0.78579,     0.78679,     0.78779,     0.78879,     0.78979,     0.79079,     0.79179,\n",
       "           0.79279,     0.79379,     0.79479,      0.7958,      0.7968,      0.7978,      0.7988,      0.7998,      0.8008,      0.8018,      0.8028,      0.8038,      0.8048,     0.80581,     0.80681,     0.80781,     0.80881,     0.80981,     0.81081,     0.81181,     0.81281,     0.81381,     0.81481,     0.81582,\n",
       "           0.81682,     0.81782,     0.81882,     0.81982,     0.82082,     0.82182,     0.82282,     0.82382,     0.82482,     0.82583,     0.82683,     0.82783,     0.82883,     0.82983,     0.83083,     0.83183,     0.83283,     0.83383,     0.83483,     0.83584,     0.83684,     0.83784,     0.83884,     0.83984,\n",
       "           0.84084,     0.84184,     0.84284,     0.84384,     0.84484,     0.84585,     0.84685,     0.84785,     0.84885,     0.84985,     0.85085,     0.85185,     0.85285,     0.85385,     0.85485,     0.85586,     0.85686,     0.85786,     0.85886,     0.85986,     0.86086,     0.86186,     0.86286,     0.86386,\n",
       "           0.86486,     0.86587,     0.86687,     0.86787,     0.86887,     0.86987,     0.87087,     0.87187,     0.87287,     0.87387,     0.87487,     0.87588,     0.87688,     0.87788,     0.87888,     0.87988,     0.88088,     0.88188,     0.88288,     0.88388,     0.88488,     0.88589,     0.88689,     0.88789,\n",
       "           0.88889,     0.88989,     0.89089,     0.89189,     0.89289,     0.89389,     0.89489,      0.8959,      0.8969,      0.8979,      0.8989,      0.8999,      0.9009,      0.9019,      0.9029,      0.9039,      0.9049,     0.90591,     0.90691,     0.90791,     0.90891,     0.90991,     0.91091,     0.91191,\n",
       "           0.91291,     0.91391,     0.91491,     0.91592,     0.91692,     0.91792,     0.91892,     0.91992,     0.92092,     0.92192,     0.92292,     0.92392,     0.92492,     0.92593,     0.92693,     0.92793,     0.92893,     0.92993,     0.93093,     0.93193,     0.93293,     0.93393,     0.93493,     0.93594,\n",
       "           0.93694,     0.93794,     0.93894,     0.93994,     0.94094,     0.94194,     0.94294,     0.94394,     0.94494,     0.94595,     0.94695,     0.94795,     0.94895,     0.94995,     0.95095,     0.95195,     0.95295,     0.95395,     0.95495,     0.95596,     0.95696,     0.95796,     0.95896,     0.95996,\n",
       "           0.96096,     0.96196,     0.96296,     0.96396,     0.96496,     0.96597,     0.96697,     0.96797,     0.96897,     0.96997,     0.97097,     0.97197,     0.97297,     0.97397,     0.97497,     0.97598,     0.97698,     0.97798,     0.97898,     0.97998,     0.98098,     0.98198,     0.98298,     0.98398,\n",
       "           0.98498,     0.98599,     0.98699,     0.98799,     0.98899,     0.98999,     0.99099,     0.99199,     0.99299,     0.99399,     0.99499,       0.996,       0.997,       0.998,       0.999,           1]), array([[          1,           1,           1,           1,           1,           1,           1,           1,           1,           1,           1,           1,           1,           1,           1,           1,           1,           1,           1,           1,           1,           1,           1,\n",
       "                  1,           1,           1,           1,           1,           1,           1,           1,           1,           1,           1,           1,           1,           1,           1,           1,           1,           1,           1,           1,           1,           1,           1,\n",
       "                  1,           1,           1,           1,           1,           1,           1,           1,           1,           1,           1,           1,           1,           1,           1,           1,           1,           1,           1,           1,           1,           1,           1,\n",
       "                  1,           1,           1,           1,           1,           1,           1,           1,           1,           1,           1,           1,           1,           1,           1,           1,           1,           1,           1,           1,           1,           1,           1,\n",
       "                  1,           1,           1,           1,           1,           1,           1,           1,           1,           1,           1,           1,           1,           1,           1,           1,           1,           1,           1,           1,           1,           1,           1,\n",
       "                  1,           1,           1,           1,           1,           1,           1,           1,           1,           1,           1,           1,           1,           1,           1,           1,           1,           1,           1,           1,           1,           1,           1,\n",
       "                  1,           1,     0.99692,     0.99692,     0.99692,     0.99692,     0.99692,     0.99692,     0.99692,     0.99692,     0.99692,     0.99692,     0.99692,     0.99692,     0.99692,     0.99692,     0.99692,     0.99692,     0.99692,     0.99692,     0.99692,     0.99692,     0.99692,\n",
       "            0.99692,     0.99692,     0.99692,     0.99692,     0.99692,     0.99692,     0.99692,     0.99692,     0.99692,     0.99692,     0.99692,     0.99692,     0.99692,     0.99692,     0.99692,     0.99692,     0.99692,     0.99692,     0.99692,     0.99692,     0.99692,     0.99692,     0.99692,\n",
       "            0.99692,     0.99692,     0.99692,     0.99692,     0.99692,     0.99692,     0.99692,     0.99692,     0.99692,     0.99692,     0.99692,     0.99692,     0.99692,     0.99692,     0.99692,     0.99692,     0.99692,     0.99692,     0.99692,     0.99692,     0.99692,     0.99692,     0.99692,\n",
       "            0.99692,     0.99692,     0.99692,     0.99692,     0.99692,     0.99692,     0.99692,     0.99692,     0.99692,     0.99692,     0.99692,     0.99692,     0.99692,     0.99692,     0.99692,     0.99692,     0.99692,     0.99692,     0.99692,     0.99692,     0.99692,     0.99692,     0.99692,\n",
       "            0.99692,     0.99692,     0.99692,     0.99692,     0.99692,     0.99692,     0.99692,     0.99692,     0.99692,     0.99692,     0.99692,     0.99692,     0.99692,     0.99692,     0.99692,     0.99692,     0.99692,     0.99692,     0.99692,     0.99692,     0.99692,     0.99692,     0.99692,\n",
       "            0.99692,     0.99692,     0.99692,     0.99692,     0.99692,     0.99692,     0.99692,     0.99692,     0.99692,     0.99692,     0.99692,     0.99692,     0.99692,     0.99692,     0.99692,     0.99692,     0.99692,     0.99692,     0.99692,     0.99692,     0.99692,     0.99692,     0.99692,\n",
       "            0.99692,     0.99692,     0.99692,     0.99692,     0.99692,     0.99692,     0.99692,     0.99692,     0.99692,     0.99692,     0.99692,     0.99692,     0.99692,     0.99692,     0.99692,     0.99692,     0.99692,     0.99692,     0.99692,     0.99692,     0.99524,     0.99524,     0.99524,\n",
       "            0.99524,     0.99524,     0.99524,     0.99524,     0.99524,     0.99524,     0.99524,     0.99524,     0.99524,     0.99524,     0.99524,     0.99524,     0.99524,     0.99524,     0.99524,     0.99524,     0.99524,     0.99524,     0.99524,     0.99524,     0.99524,     0.99524,     0.99524,\n",
       "            0.99524,     0.99524,     0.99524,     0.99524,     0.99524,     0.99524,     0.99524,     0.99524,     0.99524,     0.99524,     0.99524,     0.99524,     0.99524,     0.99524,     0.99524,     0.99524,     0.99524,     0.99524,     0.99524,     0.99524,     0.99524,     0.99524,     0.99524,\n",
       "            0.99524,     0.99524,     0.99524,     0.99524,     0.99524,     0.99524,     0.99524,     0.99524,     0.99524,     0.99524,     0.99524,     0.99524,     0.99524,     0.99524,     0.99524,     0.99524,     0.99524,     0.99524,     0.99524,     0.99524,     0.99524,     0.99524,     0.99524,\n",
       "            0.99524,     0.99524,     0.99524,     0.99524,     0.99524,     0.99524,     0.99524,     0.99524,     0.99524,     0.99524,     0.99524,     0.99524,     0.99524,     0.99524,     0.99302,     0.99302,     0.99302,     0.99302,     0.99302,     0.99302,     0.99302,     0.99302,     0.99119,\n",
       "            0.99119,     0.99119,     0.99119,     0.99119,     0.99119,     0.99119,     0.99119,     0.99119,     0.99119,     0.99119,     0.99119,     0.99119,     0.99119,     0.99119,     0.99119,     0.99119,     0.99119,     0.99119,     0.99119,     0.99119,     0.98988,     0.98988,     0.98988,\n",
       "            0.98988,     0.98988,     0.98988,     0.98988,     0.98988,     0.98988,     0.98988,     0.98988,     0.98988,     0.98988,     0.98988,     0.98988,     0.98988,     0.98988,     0.98988,     0.98988,     0.98988,     0.98988,     0.98988,     0.98988,     0.98988,     0.98988,     0.98988,\n",
       "            0.98988,     0.98988,     0.98988,     0.98988,     0.98988,     0.98988,     0.98988,     0.98988,     0.98988,     0.98988,     0.98793,     0.98793,     0.98643,     0.98643,     0.98643,     0.98643,     0.98643,     0.98643,     0.98643,     0.98643,     0.98643,     0.98643,     0.98643,\n",
       "            0.98643,     0.98643,     0.98643,     0.98643,     0.98643,     0.98513,     0.98513,     0.98513,     0.98513,     0.98513,     0.98513,     0.98513,     0.98513,     0.98513,     0.98513,     0.98513,     0.98513,     0.98513,     0.98513,     0.98513,     0.98513,     0.98513,     0.98513,\n",
       "            0.98513,     0.98378,     0.98378,     0.98378,     0.98378,     0.98378,     0.98378,     0.98378,     0.98378,     0.98378,     0.98378,     0.98378,     0.98378,     0.98378,     0.98378,     0.98378,     0.98221,     0.98221,     0.98221,     0.98221,     0.98221,     0.98221,      0.9806,\n",
       "             0.9806,      0.9806,     0.97906,     0.97906,     0.97906,     0.97906,     0.97906,     0.97739,     0.97405,     0.97274,     0.97274,     0.97274,     0.97274,     0.97274,     0.97274,     0.97274,     0.97162,     0.97162,     0.97162,     0.97162,     0.97162,     0.97162,     0.97162,\n",
       "            0.97162,     0.97162,     0.97162,     0.97039,     0.97039,     0.97039,     0.97039,     0.97039,     0.97039,     0.97039,       0.968,       0.968,       0.968,       0.968,       0.968,       0.968,       0.968,       0.968,       0.968,       0.968,       0.968,       0.968,       0.968,\n",
       "              0.968,     0.96677,     0.96677,     0.96677,     0.96677,     0.96677,     0.96546,     0.96546,     0.96546,     0.96546,     0.96417,     0.96417,     0.96417,     0.96417,     0.96291,     0.96291,     0.96291,     0.96073,     0.96073,     0.96073,     0.96073,     0.96073,     0.96073,\n",
       "            0.96073,     0.96073,     0.96073,     0.96073,     0.96073,     0.96073,     0.95952,     0.95952,     0.95952,     0.95952,     0.95691,     0.95691,     0.95691,     0.95691,     0.95428,     0.95428,     0.95022,     0.95022,     0.94993,     0.94993,     0.94993,     0.94993,     0.94993,\n",
       "            0.94993,     0.94993,     0.94993,     0.94993,     0.94993,     0.94993,     0.94993,     0.94993,     0.94993,     0.94864,     0.94759,     0.94759,     0.94759,     0.94568,     0.94568,     0.94568,     0.94568,     0.94568,     0.94568,     0.94568,     0.94568,     0.94568,     0.94568,\n",
       "            0.94467,     0.94467,     0.94467,     0.94368,     0.94368,     0.94368,     0.94368,      0.9427,      0.9427,      0.9427,     0.94181,     0.94181,     0.94181,     0.94181,     0.94181,     0.94078,     0.94078,     0.94078,     0.93725,     0.93725,     0.93725,     0.93684,     0.93684,\n",
       "            0.93684,     0.93684,     0.93684,     0.93684,     0.93684,     0.93684,     0.93684,     0.93578,     0.93498,     0.93498,     0.93498,     0.93498,     0.93498,     0.93144,     0.93059,     0.93059,     0.93059,     0.93059,     0.92739,     0.92739,     0.92739,     0.92658,     0.92658,\n",
       "            0.92658,     0.92658,     0.92551,     0.92221,     0.92221,     0.92135,     0.92135,      0.9203,     0.91935,     0.91935,     0.91718,     0.91585,     0.91585,     0.91585,     0.91585,     0.91585,     0.91585,     0.91585,     0.91585,     0.91484,     0.91357,     0.91357,     0.91357,\n",
       "            0.91357,     0.91357,     0.91357,     0.91357,     0.91357,     0.91159,     0.91159,     0.91061,     0.90963,     0.90824,     0.90824,     0.90824,     0.90824,     0.90824,     0.90824,     0.90621,     0.90526,     0.90432,     0.90233,     0.90196,     0.90196,     0.90196,     0.90196,\n",
       "            0.90196,     0.90196,     0.90104,      0.8992,     0.89726,     0.89534,      0.8948,      0.8948,      0.8948,      0.8948,      0.8929,      0.8927,      0.8927,      0.8927,      0.8927,      0.8927,      0.8927,      0.8927,      0.8927,      0.8927,      0.8927,      0.8927,      0.8927,\n",
       "             0.8927,     0.89121,     0.89121,     0.89121,     0.89121,     0.89035,      0.8895,     0.88937,     0.88937,     0.88937,     0.88937,     0.88937,     0.88937,     0.88769,     0.88769,     0.88495,     0.88424,     0.88424,     0.88072,     0.88072,     0.87818,     0.87818,     0.87408,\n",
       "            0.87408,     0.87408,      0.8737,      0.8737,      0.8737,      0.8737,     0.87292,     0.87137,     0.87137,     0.87087,     0.87087,     0.87037,     0.87037,     0.87037,     0.86783,     0.86708,     0.86646,     0.86646,     0.86484,      0.8641,     0.86282,     0.86282,     0.86282,\n",
       "            0.86282,     0.86282,     0.86282,     0.86282,     0.86282,     0.86282,     0.86282,     0.86282,     0.86282,     0.86282,     0.86282,     0.86166,     0.86166,     0.86166,     0.86166,      0.8601,     0.85953,     0.85953,     0.85286,     0.85286,     0.85286,     0.85286,     0.85286,\n",
       "            0.85232,     0.85232,     0.85043,     0.85043,     0.85043,     0.84976,      0.8444,      0.8444,     0.84405,     0.84405,     0.84405,      0.8434,     0.84146,     0.84146,     0.84146,     0.84004,     0.83673,     0.83673,     0.83673,     0.83641,     0.83641,     0.83641,     0.83425,\n",
       "            0.83287,      0.8315,     0.83014,     0.82743,     0.82684,     0.82432,     0.82432,     0.82432,      0.8239,      0.8239,     0.82348,     0.82348,     0.82216,     0.81899,     0.81899,     0.81426,     0.81426,     0.81316,     0.81316,      0.8118,      0.8118,      0.8118,      0.8118,\n",
       "             0.8118,      0.8118,      0.8118,      0.8118,     0.81158,     0.81158,     0.81158,     0.80895,     0.80359,     0.80239,     0.80204,     0.80204,     0.80169,     0.80118,     0.79597,     0.79547,     0.79498,      0.7925,      0.7907,     0.78891,     0.78389,     0.78361,      0.7825,\n",
       "            0.78204,     0.77967,     0.77958,     0.77958,     0.77958,     0.77805,     0.77805,     0.77697,     0.77608,     0.77608,     0.77334,     0.77291,     0.77247,     0.77204,     0.77161,     0.76935,     0.76669,     0.76669,     0.76448,     0.76347,     0.76006,     0.76006,     0.76006,\n",
       "            0.75809,     0.75809,     0.75769,     0.75672,     0.75593,     0.75593,     0.75496,     0.74717,     0.74124,     0.74124,     0.74124,     0.73923,     0.73235,     0.72741,     0.72741,     0.72359,     0.72359,     0.71963,     0.71817,     0.71817,       0.715,       0.715,     0.71066,\n",
       "            0.70936,     0.70857,      0.7058,     0.70257,     0.70229,     0.69479,     0.68835,     0.68835,     0.68485,     0.68322,     0.68115,     0.67819,     0.67526,     0.67459,     0.67038,      0.6695,     0.66928,     0.66301,     0.66152,     0.65709,     0.65107,      0.6446,      0.6446,\n",
       "            0.63687,     0.63631,     0.63536,      0.6294,     0.61859,     0.60689,     0.60606,     0.60383,     0.59954,     0.59805,     0.59691,     0.59533,     0.59533,     0.59186,     0.58636,     0.58398,     0.58356,     0.58122,     0.57794,     0.57722,     0.57493,     0.57423,     0.57135,\n",
       "            0.57127,     0.56966,     0.54889,     0.54714,     0.53823,     0.53173,      0.5236,     0.51005,     0.50931,      0.4993,     0.46519,     0.46061,     0.41745,     0.37526,     0.37526,      0.3605,     0.31053,     0.30948,     0.26519,      0.1934,     0.17959,     0.16577,     0.15196,\n",
       "            0.13814,     0.12433,     0.11051,      0.0967,    0.082886,    0.069071,    0.055257,    0.041443,    0.027629,    0.013814,           0]]), 'Recall', 'Precision'], [array([          0,    0.001001,    0.002002,    0.003003,    0.004004,    0.005005,    0.006006,    0.007007,    0.008008,    0.009009,     0.01001,    0.011011,    0.012012,    0.013013,    0.014014,    0.015015,    0.016016,    0.017017,    0.018018,    0.019019,     0.02002,    0.021021,    0.022022,    0.023023,\n",
       "          0.024024,    0.025025,    0.026026,    0.027027,    0.028028,    0.029029,     0.03003,    0.031031,    0.032032,    0.033033,    0.034034,    0.035035,    0.036036,    0.037037,    0.038038,    0.039039,     0.04004,    0.041041,    0.042042,    0.043043,    0.044044,    0.045045,    0.046046,    0.047047,\n",
       "          0.048048,    0.049049,     0.05005,    0.051051,    0.052052,    0.053053,    0.054054,    0.055055,    0.056056,    0.057057,    0.058058,    0.059059,     0.06006,    0.061061,    0.062062,    0.063063,    0.064064,    0.065065,    0.066066,    0.067067,    0.068068,    0.069069,     0.07007,    0.071071,\n",
       "          0.072072,    0.073073,    0.074074,    0.075075,    0.076076,    0.077077,    0.078078,    0.079079,     0.08008,    0.081081,    0.082082,    0.083083,    0.084084,    0.085085,    0.086086,    0.087087,    0.088088,    0.089089,     0.09009,    0.091091,    0.092092,    0.093093,    0.094094,    0.095095,\n",
       "          0.096096,    0.097097,    0.098098,    0.099099,      0.1001,      0.1011,      0.1021,      0.1031,      0.1041,     0.10511,     0.10611,     0.10711,     0.10811,     0.10911,     0.11011,     0.11111,     0.11211,     0.11311,     0.11411,     0.11512,     0.11612,     0.11712,     0.11812,     0.11912,\n",
       "           0.12012,     0.12112,     0.12212,     0.12312,     0.12412,     0.12513,     0.12613,     0.12713,     0.12813,     0.12913,     0.13013,     0.13113,     0.13213,     0.13313,     0.13413,     0.13514,     0.13614,     0.13714,     0.13814,     0.13914,     0.14014,     0.14114,     0.14214,     0.14314,\n",
       "           0.14414,     0.14515,     0.14615,     0.14715,     0.14815,     0.14915,     0.15015,     0.15115,     0.15215,     0.15315,     0.15415,     0.15516,     0.15616,     0.15716,     0.15816,     0.15916,     0.16016,     0.16116,     0.16216,     0.16316,     0.16416,     0.16517,     0.16617,     0.16717,\n",
       "           0.16817,     0.16917,     0.17017,     0.17117,     0.17217,     0.17317,     0.17417,     0.17518,     0.17618,     0.17718,     0.17818,     0.17918,     0.18018,     0.18118,     0.18218,     0.18318,     0.18418,     0.18519,     0.18619,     0.18719,     0.18819,     0.18919,     0.19019,     0.19119,\n",
       "           0.19219,     0.19319,     0.19419,      0.1952,      0.1962,      0.1972,      0.1982,      0.1992,      0.2002,      0.2012,      0.2022,      0.2032,      0.2042,     0.20521,     0.20621,     0.20721,     0.20821,     0.20921,     0.21021,     0.21121,     0.21221,     0.21321,     0.21421,     0.21522,\n",
       "           0.21622,     0.21722,     0.21822,     0.21922,     0.22022,     0.22122,     0.22222,     0.22322,     0.22422,     0.22523,     0.22623,     0.22723,     0.22823,     0.22923,     0.23023,     0.23123,     0.23223,     0.23323,     0.23423,     0.23524,     0.23624,     0.23724,     0.23824,     0.23924,\n",
       "           0.24024,     0.24124,     0.24224,     0.24324,     0.24424,     0.24525,     0.24625,     0.24725,     0.24825,     0.24925,     0.25025,     0.25125,     0.25225,     0.25325,     0.25425,     0.25526,     0.25626,     0.25726,     0.25826,     0.25926,     0.26026,     0.26126,     0.26226,     0.26326,\n",
       "           0.26426,     0.26527,     0.26627,     0.26727,     0.26827,     0.26927,     0.27027,     0.27127,     0.27227,     0.27327,     0.27427,     0.27528,     0.27628,     0.27728,     0.27828,     0.27928,     0.28028,     0.28128,     0.28228,     0.28328,     0.28428,     0.28529,     0.28629,     0.28729,\n",
       "           0.28829,     0.28929,     0.29029,     0.29129,     0.29229,     0.29329,     0.29429,      0.2953,      0.2963,      0.2973,      0.2983,      0.2993,      0.3003,      0.3013,      0.3023,      0.3033,      0.3043,     0.30531,     0.30631,     0.30731,     0.30831,     0.30931,     0.31031,     0.31131,\n",
       "           0.31231,     0.31331,     0.31431,     0.31532,     0.31632,     0.31732,     0.31832,     0.31932,     0.32032,     0.32132,     0.32232,     0.32332,     0.32432,     0.32533,     0.32633,     0.32733,     0.32833,     0.32933,     0.33033,     0.33133,     0.33233,     0.33333,     0.33433,     0.33534,\n",
       "           0.33634,     0.33734,     0.33834,     0.33934,     0.34034,     0.34134,     0.34234,     0.34334,     0.34434,     0.34535,     0.34635,     0.34735,     0.34835,     0.34935,     0.35035,     0.35135,     0.35235,     0.35335,     0.35435,     0.35536,     0.35636,     0.35736,     0.35836,     0.35936,\n",
       "           0.36036,     0.36136,     0.36236,     0.36336,     0.36436,     0.36537,     0.36637,     0.36737,     0.36837,     0.36937,     0.37037,     0.37137,     0.37237,     0.37337,     0.37437,     0.37538,     0.37638,     0.37738,     0.37838,     0.37938,     0.38038,     0.38138,     0.38238,     0.38338,\n",
       "           0.38438,     0.38539,     0.38639,     0.38739,     0.38839,     0.38939,     0.39039,     0.39139,     0.39239,     0.39339,     0.39439,      0.3954,      0.3964,      0.3974,      0.3984,      0.3994,      0.4004,      0.4014,      0.4024,      0.4034,      0.4044,     0.40541,     0.40641,     0.40741,\n",
       "           0.40841,     0.40941,     0.41041,     0.41141,     0.41241,     0.41341,     0.41441,     0.41542,     0.41642,     0.41742,     0.41842,     0.41942,     0.42042,     0.42142,     0.42242,     0.42342,     0.42442,     0.42543,     0.42643,     0.42743,     0.42843,     0.42943,     0.43043,     0.43143,\n",
       "           0.43243,     0.43343,     0.43443,     0.43544,     0.43644,     0.43744,     0.43844,     0.43944,     0.44044,     0.44144,     0.44244,     0.44344,     0.44444,     0.44545,     0.44645,     0.44745,     0.44845,     0.44945,     0.45045,     0.45145,     0.45245,     0.45345,     0.45445,     0.45546,\n",
       "           0.45646,     0.45746,     0.45846,     0.45946,     0.46046,     0.46146,     0.46246,     0.46346,     0.46446,     0.46547,     0.46647,     0.46747,     0.46847,     0.46947,     0.47047,     0.47147,     0.47247,     0.47347,     0.47447,     0.47548,     0.47648,     0.47748,     0.47848,     0.47948,\n",
       "           0.48048,     0.48148,     0.48248,     0.48348,     0.48448,     0.48549,     0.48649,     0.48749,     0.48849,     0.48949,     0.49049,     0.49149,     0.49249,     0.49349,     0.49449,      0.4955,      0.4965,      0.4975,      0.4985,      0.4995,      0.5005,      0.5015,      0.5025,      0.5035,\n",
       "            0.5045,     0.50551,     0.50651,     0.50751,     0.50851,     0.50951,     0.51051,     0.51151,     0.51251,     0.51351,     0.51451,     0.51552,     0.51652,     0.51752,     0.51852,     0.51952,     0.52052,     0.52152,     0.52252,     0.52352,     0.52452,     0.52553,     0.52653,     0.52753,\n",
       "           0.52853,     0.52953,     0.53053,     0.53153,     0.53253,     0.53353,     0.53453,     0.53554,     0.53654,     0.53754,     0.53854,     0.53954,     0.54054,     0.54154,     0.54254,     0.54354,     0.54454,     0.54555,     0.54655,     0.54755,     0.54855,     0.54955,     0.55055,     0.55155,\n",
       "           0.55255,     0.55355,     0.55455,     0.55556,     0.55656,     0.55756,     0.55856,     0.55956,     0.56056,     0.56156,     0.56256,     0.56356,     0.56456,     0.56557,     0.56657,     0.56757,     0.56857,     0.56957,     0.57057,     0.57157,     0.57257,     0.57357,     0.57457,     0.57558,\n",
       "           0.57658,     0.57758,     0.57858,     0.57958,     0.58058,     0.58158,     0.58258,     0.58358,     0.58458,     0.58559,     0.58659,     0.58759,     0.58859,     0.58959,     0.59059,     0.59159,     0.59259,     0.59359,     0.59459,      0.5956,      0.5966,      0.5976,      0.5986,      0.5996,\n",
       "            0.6006,      0.6016,      0.6026,      0.6036,      0.6046,     0.60561,     0.60661,     0.60761,     0.60861,     0.60961,     0.61061,     0.61161,     0.61261,     0.61361,     0.61461,     0.61562,     0.61662,     0.61762,     0.61862,     0.61962,     0.62062,     0.62162,     0.62262,     0.62362,\n",
       "           0.62462,     0.62563,     0.62663,     0.62763,     0.62863,     0.62963,     0.63063,     0.63163,     0.63263,     0.63363,     0.63463,     0.63564,     0.63664,     0.63764,     0.63864,     0.63964,     0.64064,     0.64164,     0.64264,     0.64364,     0.64464,     0.64565,     0.64665,     0.64765,\n",
       "           0.64865,     0.64965,     0.65065,     0.65165,     0.65265,     0.65365,     0.65465,     0.65566,     0.65666,     0.65766,     0.65866,     0.65966,     0.66066,     0.66166,     0.66266,     0.66366,     0.66466,     0.66567,     0.66667,     0.66767,     0.66867,     0.66967,     0.67067,     0.67167,\n",
       "           0.67267,     0.67367,     0.67467,     0.67568,     0.67668,     0.67768,     0.67868,     0.67968,     0.68068,     0.68168,     0.68268,     0.68368,     0.68468,     0.68569,     0.68669,     0.68769,     0.68869,     0.68969,     0.69069,     0.69169,     0.69269,     0.69369,     0.69469,      0.6957,\n",
       "            0.6967,      0.6977,      0.6987,      0.6997,      0.7007,      0.7017,      0.7027,      0.7037,      0.7047,     0.70571,     0.70671,     0.70771,     0.70871,     0.70971,     0.71071,     0.71171,     0.71271,     0.71371,     0.71471,     0.71572,     0.71672,     0.71772,     0.71872,     0.71972,\n",
       "           0.72072,     0.72172,     0.72272,     0.72372,     0.72472,     0.72573,     0.72673,     0.72773,     0.72873,     0.72973,     0.73073,     0.73173,     0.73273,     0.73373,     0.73473,     0.73574,     0.73674,     0.73774,     0.73874,     0.73974,     0.74074,     0.74174,     0.74274,     0.74374,\n",
       "           0.74474,     0.74575,     0.74675,     0.74775,     0.74875,     0.74975,     0.75075,     0.75175,     0.75275,     0.75375,     0.75475,     0.75576,     0.75676,     0.75776,     0.75876,     0.75976,     0.76076,     0.76176,     0.76276,     0.76376,     0.76476,     0.76577,     0.76677,     0.76777,\n",
       "           0.76877,     0.76977,     0.77077,     0.77177,     0.77277,     0.77377,     0.77477,     0.77578,     0.77678,     0.77778,     0.77878,     0.77978,     0.78078,     0.78178,     0.78278,     0.78378,     0.78478,     0.78579,     0.78679,     0.78779,     0.78879,     0.78979,     0.79079,     0.79179,\n",
       "           0.79279,     0.79379,     0.79479,      0.7958,      0.7968,      0.7978,      0.7988,      0.7998,      0.8008,      0.8018,      0.8028,      0.8038,      0.8048,     0.80581,     0.80681,     0.80781,     0.80881,     0.80981,     0.81081,     0.81181,     0.81281,     0.81381,     0.81481,     0.81582,\n",
       "           0.81682,     0.81782,     0.81882,     0.81982,     0.82082,     0.82182,     0.82282,     0.82382,     0.82482,     0.82583,     0.82683,     0.82783,     0.82883,     0.82983,     0.83083,     0.83183,     0.83283,     0.83383,     0.83483,     0.83584,     0.83684,     0.83784,     0.83884,     0.83984,\n",
       "           0.84084,     0.84184,     0.84284,     0.84384,     0.84484,     0.84585,     0.84685,     0.84785,     0.84885,     0.84985,     0.85085,     0.85185,     0.85285,     0.85385,     0.85485,     0.85586,     0.85686,     0.85786,     0.85886,     0.85986,     0.86086,     0.86186,     0.86286,     0.86386,\n",
       "           0.86486,     0.86587,     0.86687,     0.86787,     0.86887,     0.86987,     0.87087,     0.87187,     0.87287,     0.87387,     0.87487,     0.87588,     0.87688,     0.87788,     0.87888,     0.87988,     0.88088,     0.88188,     0.88288,     0.88388,     0.88488,     0.88589,     0.88689,     0.88789,\n",
       "           0.88889,     0.88989,     0.89089,     0.89189,     0.89289,     0.89389,     0.89489,      0.8959,      0.8969,      0.8979,      0.8989,      0.8999,      0.9009,      0.9019,      0.9029,      0.9039,      0.9049,     0.90591,     0.90691,     0.90791,     0.90891,     0.90991,     0.91091,     0.91191,\n",
       "           0.91291,     0.91391,     0.91491,     0.91592,     0.91692,     0.91792,     0.91892,     0.91992,     0.92092,     0.92192,     0.92292,     0.92392,     0.92492,     0.92593,     0.92693,     0.92793,     0.92893,     0.92993,     0.93093,     0.93193,     0.93293,     0.93393,     0.93493,     0.93594,\n",
       "           0.93694,     0.93794,     0.93894,     0.93994,     0.94094,     0.94194,     0.94294,     0.94394,     0.94494,     0.94595,     0.94695,     0.94795,     0.94895,     0.94995,     0.95095,     0.95195,     0.95295,     0.95395,     0.95495,     0.95596,     0.95696,     0.95796,     0.95896,     0.95996,\n",
       "           0.96096,     0.96196,     0.96296,     0.96396,     0.96496,     0.96597,     0.96697,     0.96797,     0.96897,     0.96997,     0.97097,     0.97197,     0.97297,     0.97397,     0.97497,     0.97598,     0.97698,     0.97798,     0.97898,     0.97998,     0.98098,     0.98198,     0.98298,     0.98398,\n",
       "           0.98498,     0.98599,     0.98699,     0.98799,     0.98899,     0.98999,     0.99099,     0.99199,     0.99299,     0.99399,     0.99499,       0.996,       0.997,       0.998,       0.999,           1]), array([[    0.33504,     0.33504,     0.40548,     0.44921,     0.47905,     0.50054,     0.51896,     0.53484,     0.54977,     0.56107,     0.57219,     0.58085,     0.58686,     0.59431,     0.60246,     0.60775,     0.61515,     0.62165,     0.62626,     0.63085,     0.63387,     0.63607,     0.64062,\n",
       "            0.64609,     0.65231,     0.65545,     0.65894,     0.66121,     0.66316,     0.66531,     0.66878,     0.67066,      0.6734,      0.6774,     0.68122,     0.68384,     0.68588,     0.68801,     0.69186,     0.69393,     0.69539,     0.69842,     0.69974,     0.70094,     0.70349,     0.70575,\n",
       "            0.70791,     0.70969,     0.71226,     0.71381,     0.71479,     0.71576,     0.71758,     0.71827,     0.72004,     0.72039,     0.72199,     0.72289,     0.72429,     0.72516,     0.72605,      0.7265,     0.72765,     0.72751,     0.72901,      0.7306,     0.73088,     0.73128,     0.73212,\n",
       "            0.73348,     0.73406,       0.735,     0.73533,     0.73557,     0.73614,     0.73704,       0.738,     0.73838,      0.7397,     0.74047,     0.74024,     0.74254,     0.74301,     0.74471,     0.74535,      0.7473,     0.74828,      0.7486,     0.74932,     0.74994,     0.75118,     0.75229,\n",
       "            0.75365,      0.7542,      0.7544,     0.75534,     0.75599,     0.75662,     0.75753,     0.75878,     0.75987,      0.7599,     0.76046,     0.76084,     0.76152,     0.76187,     0.76267,     0.76392,     0.76447,     0.76457,     0.76466,     0.76519,     0.76587,     0.76635,     0.76679,\n",
       "            0.76693,     0.76791,     0.76851,     0.76973,     0.76946,     0.77015,     0.77126,     0.77252,     0.77404,     0.77509,     0.77656,     0.77696,     0.77714,     0.77699,      0.7771,     0.77721,     0.77741,     0.77803,      0.7791,     0.77982,     0.78097,     0.78047,     0.78065,\n",
       "            0.78147,     0.78209,     0.78232,     0.78276,     0.78304,     0.78313,     0.78351,     0.78431,     0.78477,     0.78522,     0.78601,     0.78639,     0.78673,     0.78688,      0.7874,      0.7875,     0.78795,     0.78842,     0.78884,     0.78944,     0.78964,     0.78983,     0.79002,\n",
       "            0.79029,     0.79038,      0.7904,     0.79076,     0.79143,     0.79252,     0.79296,     0.79353,     0.79338,     0.79361,     0.79375,     0.79385,     0.79395,     0.79459,     0.79541,     0.79578,     0.79636,     0.79719,     0.79727,     0.79735,     0.79742,     0.79767,     0.79831,\n",
       "            0.79806,     0.79821,     0.79849,     0.79875,     0.79901,     0.79956,     0.79969,     0.79983,     0.80008,      0.8006,     0.80077,     0.80124,     0.80155,     0.80165,     0.80188,     0.80205,     0.80211,     0.80234,     0.80252,     0.80418,     0.80444,     0.80406,     0.80464,\n",
       "            0.80489,     0.80573,     0.80516,     0.80488,     0.80548,     0.80523,     0.80571,     0.80688,     0.80755,     0.80763,     0.80684,     0.80746,     0.80753,      0.8076,     0.80767,     0.80774,     0.80868,     0.80882,     0.80904,     0.80919,     0.80931,     0.80945,     0.80969,\n",
       "            0.81042,     0.81089,     0.81151,     0.81166,     0.81136,     0.81164,     0.81196,     0.81208,      0.8122,     0.81284,       0.813,      0.8131,     0.81321,     0.81345,     0.81384,     0.81459,     0.81474,      0.8149,     0.81514,     0.81551,     0.81509,     0.81613,     0.81629,\n",
       "            0.81589,     0.81534,     0.81501,     0.81556,     0.81589,     0.81604,     0.81626,     0.81672,     0.81752,     0.81786,     0.81809,     0.81846,     0.81911,     0.81979,     0.81994,     0.82147,     0.82167,       0.822,     0.82277,     0.82271,     0.82291,     0.82259,     0.82221,\n",
       "            0.82254,     0.82236,     0.82253,     0.82277,     0.82256,     0.82236,     0.82198,     0.82225,     0.82265,     0.82306,     0.82293,      0.8228,     0.82268,      0.8218,     0.82234,       0.822,     0.82196,     0.82216,     0.82308,     0.82336,     0.82331,      0.8234,     0.82431,\n",
       "            0.82426,     0.82455,     0.82532,     0.82579,     0.82601,     0.82595,     0.82578,     0.82561,     0.82478,     0.82551,      0.8259,     0.82632,     0.82582,      0.8255,     0.82556,     0.82563,      0.8257,     0.82577,     0.82584,     0.82572,     0.82613,     0.82573,     0.82621,\n",
       "            0.82642,     0.82604,     0.82498,     0.82527,     0.82507,     0.82486,     0.82505,      0.8253,     0.82551,     0.82581,     0.82598,     0.82568,     0.82619,     0.82604,     0.82589,     0.82558,     0.82539,      0.8252,     0.82565,     0.82608,     0.82719,     0.82743,     0.82766,\n",
       "            0.82796,     0.82781,     0.82766,     0.82751,     0.82773,     0.82829,     0.82842,     0.82851,     0.82882,       0.829,     0.82879,     0.82957,     0.82984,     0.83005,     0.82955,     0.82975,     0.82976,     0.82931,     0.82952,     0.82968,     0.82981,     0.82993,     0.83043,\n",
       "            0.83056,      0.8307,     0.83111,      0.8313,     0.83191,     0.83181,     0.83104,     0.83051,     0.83056,     0.83022,     0.83052,      0.8313,     0.83297,     0.83318,     0.83293,     0.83331,       0.834,     0.83422,     0.83344,      0.8329,       0.833,     0.83221,     0.83102,\n",
       "             0.8305,     0.83023,      0.8295,     0.82884,     0.82921,     0.82933,     0.82946,     0.82962,     0.82981,     0.82931,     0.82916,     0.82902,     0.82888,     0.82938,     0.82958,     0.82912,     0.82879,     0.82862,     0.82896,     0.82915,      0.8294,     0.83005,     0.83011,\n",
       "            0.83017,     0.83022,     0.83028,     0.83034,     0.83039,     0.83068,     0.83093,     0.83112,     0.83039,     0.83008,     0.82981,     0.82997,      0.8301,     0.83022,     0.83115,     0.83141,     0.83123,     0.83105,     0.83104,     0.83134,     0.83148,     0.83162,     0.83097,\n",
       "             0.8307,     0.83088,     0.83007,      0.8299,     0.82936,     0.82881,     0.82903,     0.82942,      0.8298,     0.83003,     0.82971,     0.82991,     0.82977,     0.83033,      0.8305,        0.83,     0.83069,     0.83061,     0.83083,     0.83059,     0.83083,     0.83088,     0.83093,\n",
       "            0.83098,     0.83103,     0.83108,     0.83113,     0.83117,     0.83074,     0.83087,       0.831,     0.83169,     0.83141,     0.83048,     0.82961,     0.82911,      0.8293,     0.83005,     0.83044,     0.82999,      0.8303,     0.83016,     0.82975,     0.82893,     0.83006,     0.82989,\n",
       "            0.82933,     0.82865,     0.82837,     0.82809,     0.82781,     0.82761,     0.82775,     0.82788,     0.82808,     0.82887,     0.82988,     0.83004,     0.82976,     0.82899,     0.82888,     0.82877,     0.82866,     0.82854,     0.82815,     0.82903,     0.82889,     0.82875,     0.82861,\n",
       "            0.82819,     0.82691,     0.82635,      0.8264,     0.82635,     0.82648,     0.82662,     0.82736,     0.82776,     0.82816,     0.82809,     0.82786,     0.82775,      0.8276,     0.82746,     0.82809,     0.82752,     0.82695,     0.82638,      0.8263,      0.8265,     0.82544,     0.82487,\n",
       "            0.82436,     0.82407,     0.82322,     0.82294,     0.82255,     0.82191,     0.82162,     0.82121,     0.82063,     0.82005,     0.81891,     0.81887,     0.81857,     0.81855,     0.81876,     0.81888,     0.81869,     0.81893,     0.81902,      0.8191,     0.81918,     0.81926,     0.81883,\n",
       "            0.81824,      0.8183,     0.81851,     0.81785,     0.81894,      0.8174,     0.81527,     0.81547,     0.81567,     0.81588,      0.8151,     0.81491,     0.81471,     0.81426,     0.81367,     0.81347,     0.81169,      0.8119,      0.8121,      0.8123,     0.81267,     0.81308,     0.81329,\n",
       "            0.81299,     0.81243,     0.81325,     0.81333,     0.81342,      0.8135,     0.81357,     0.81333,     0.81309,     0.81263,     0.81266,     0.81374,     0.81395,     0.81301,     0.81281,     0.81296,     0.81337,     0.81379,     0.81278,     0.81344,     0.81297,     0.81207,     0.81087,\n",
       "             0.8104,      0.8101,     0.80968,     0.80953,     0.80938,     0.80923,     0.80942,     0.80924,     0.80922,     0.80898,     0.80806,     0.80745,     0.80711,     0.80704,     0.80642,     0.80581,      0.8052,     0.80458,     0.80312,     0.80245,     0.80183,     0.80101,     0.80039,\n",
       "            0.79957,     0.79942,     0.79978,      0.7996,     0.79943,     0.79925,     0.79837,     0.79806,     0.79752,     0.79772,     0.79748,     0.79749,     0.79766,     0.79795,     0.79764,     0.79732,     0.79553,     0.79511,     0.79448,     0.79366,     0.79444,       0.794,     0.79345,\n",
       "            0.79373,     0.79404,     0.79372,     0.79319,     0.79131,     0.78998,     0.79033,     0.79047,      0.7906,     0.79027,     0.79043,     0.78992,     0.79023,     0.78905,     0.78927,     0.78962,     0.78841,     0.78809,     0.78707,     0.78662,     0.78461,     0.78465,     0.78326,\n",
       "            0.78262,     0.78229,     0.78188,     0.78011,     0.77955,     0.77922,     0.77928,     0.77959,      0.7798,     0.77956,      0.7789,     0.77856,     0.77873,     0.77824,     0.77791,     0.77756,     0.77733,     0.77688,     0.77716,     0.77702,      0.7767,     0.77691,     0.77546,\n",
       "            0.77406,     0.77384,     0.77361,     0.77323,     0.77334,      0.7729,     0.77225,     0.77092,     0.77024,      0.7691,     0.76883,     0.76859,     0.76823,      0.7679,      0.7678,     0.76731,     0.76596,     0.76465,      0.7642,     0.76156,     0.76162,     0.76093,     0.76003,\n",
       "            0.76096,     0.76044,     0.75856,     0.75809,     0.75674,     0.75642,     0.75473,     0.75385,     0.75409,     0.75334,     0.75147,     0.75164,       0.751,     0.74949,     0.74897,     0.74843,     0.74801,     0.74777,     0.74754,     0.74515,     0.74467,      0.7433,     0.74258,\n",
       "            0.74234,     0.74061,     0.74049,     0.74045,     0.73994,     0.73919,     0.73815,     0.73767,     0.73739,     0.73623,     0.73482,     0.73453,     0.73399,     0.73307,     0.73127,     0.73009,      0.7303,     0.72916,     0.72973,      0.7302,     0.72959,     0.72814,     0.72836,\n",
       "            0.72891,     0.72675,     0.72638,     0.72648,     0.72672,     0.72463,     0.72413,     0.72389,     0.72059,     0.71895,     0.71762,     0.71694,     0.71643,     0.71593,     0.71555,     0.71393,     0.71305,     0.71245,     0.71024,     0.71043,     0.70983,      0.7076,     0.70697,\n",
       "            0.70496,     0.70445,     0.70296,     0.70131,     0.69986,     0.69825,     0.69775,     0.69736,     0.69666,     0.69494,     0.69416,     0.69283,     0.69196,      0.6903,     0.68747,     0.68564,     0.68406,     0.68193,     0.68161,     0.68049,     0.67901,     0.67773,      0.6772,\n",
       "            0.67598,     0.67309,     0.67336,      0.6731,     0.67331,     0.67335,     0.67294,     0.67292,     0.67172,     0.67038,     0.66966,     0.66912,     0.66933,     0.66712,     0.66587,     0.66343,     0.66287,     0.66187,     0.65963,     0.65863,     0.65803,     0.65719,     0.65307,\n",
       "            0.65205,     0.65097,      0.6493,     0.64902,     0.64823,     0.64771,     0.64728,     0.64503,     0.64334,     0.64081,     0.63955,     0.63867,     0.63695,     0.63356,     0.63269,     0.63193,      0.6322,     0.63051,     0.62993,     0.62659,      0.6242,      0.6216,     0.61877,\n",
       "            0.61719,     0.61607,     0.61557,     0.61584,     0.61343,     0.61184,     0.61124,     0.61064,     0.60799,     0.59996,     0.59634,      0.5945,     0.59266,      0.5899,     0.58863,     0.58801,     0.58754,     0.58457,     0.58411,     0.58144,     0.58085,      0.5762,     0.57246,\n",
       "            0.56682,     0.56208,     0.55523,     0.55425,     0.55187,     0.55206,     0.55168,     0.54729,     0.54532,     0.54294,     0.54001,      0.5374,      0.5354,     0.53113,     0.52545,     0.51842,     0.51362,     0.50722,     0.50514,     0.50202,     0.49889,     0.49368,     0.48948,\n",
       "             0.4863,     0.47889,     0.47567,     0.46923,     0.46273,     0.45638,     0.45099,     0.44323,     0.43427,     0.42859,      0.4206,     0.41598,     0.40438,     0.39379,     0.38663,     0.37459,     0.37314,     0.36705,     0.36103,     0.35234,      0.3448,     0.33972,     0.33713,\n",
       "            0.32438,     0.31785,     0.30869,     0.29811,     0.28605,     0.27655,     0.26005,     0.24885,     0.23911,     0.23192,     0.21308,     0.20273,     0.18777,     0.17561,     0.16923,     0.16474,     0.15694,     0.14906,     0.14427,     0.12832,     0.12181,     0.10874,      0.1021,\n",
       "           0.095409,     0.08867,    0.078766,    0.077035,     0.07327,    0.065901,    0.064147,    0.057229,    0.054077,    0.050217,    0.046692,    0.044903,    0.039604,    0.033643,    0.032434,    0.027098,    0.024381,    0.022551,    0.020717,    0.017858,    0.017398,    0.016938,    0.016477,\n",
       "           0.015973,    0.015446,    0.014918,     0.01407,    0.010819,    0.010482,    0.010145,   0.0098073,   0.0094699,   0.0091323,   0.0074231,   0.0061366,   0.0046064,   0.0018283,           0,           0,           0,           0,           0,           0,           0,           0,           0,\n",
       "                  0,           0,           0,           0,           0,           0,           0,           0,           0,           0,           0]]), 'Confidence', 'F1'], [array([          0,    0.001001,    0.002002,    0.003003,    0.004004,    0.005005,    0.006006,    0.007007,    0.008008,    0.009009,     0.01001,    0.011011,    0.012012,    0.013013,    0.014014,    0.015015,    0.016016,    0.017017,    0.018018,    0.019019,     0.02002,    0.021021,    0.022022,    0.023023,\n",
       "          0.024024,    0.025025,    0.026026,    0.027027,    0.028028,    0.029029,     0.03003,    0.031031,    0.032032,    0.033033,    0.034034,    0.035035,    0.036036,    0.037037,    0.038038,    0.039039,     0.04004,    0.041041,    0.042042,    0.043043,    0.044044,    0.045045,    0.046046,    0.047047,\n",
       "          0.048048,    0.049049,     0.05005,    0.051051,    0.052052,    0.053053,    0.054054,    0.055055,    0.056056,    0.057057,    0.058058,    0.059059,     0.06006,    0.061061,    0.062062,    0.063063,    0.064064,    0.065065,    0.066066,    0.067067,    0.068068,    0.069069,     0.07007,    0.071071,\n",
       "          0.072072,    0.073073,    0.074074,    0.075075,    0.076076,    0.077077,    0.078078,    0.079079,     0.08008,    0.081081,    0.082082,    0.083083,    0.084084,    0.085085,    0.086086,    0.087087,    0.088088,    0.089089,     0.09009,    0.091091,    0.092092,    0.093093,    0.094094,    0.095095,\n",
       "          0.096096,    0.097097,    0.098098,    0.099099,      0.1001,      0.1011,      0.1021,      0.1031,      0.1041,     0.10511,     0.10611,     0.10711,     0.10811,     0.10911,     0.11011,     0.11111,     0.11211,     0.11311,     0.11411,     0.11512,     0.11612,     0.11712,     0.11812,     0.11912,\n",
       "           0.12012,     0.12112,     0.12212,     0.12312,     0.12412,     0.12513,     0.12613,     0.12713,     0.12813,     0.12913,     0.13013,     0.13113,     0.13213,     0.13313,     0.13413,     0.13514,     0.13614,     0.13714,     0.13814,     0.13914,     0.14014,     0.14114,     0.14214,     0.14314,\n",
       "           0.14414,     0.14515,     0.14615,     0.14715,     0.14815,     0.14915,     0.15015,     0.15115,     0.15215,     0.15315,     0.15415,     0.15516,     0.15616,     0.15716,     0.15816,     0.15916,     0.16016,     0.16116,     0.16216,     0.16316,     0.16416,     0.16517,     0.16617,     0.16717,\n",
       "           0.16817,     0.16917,     0.17017,     0.17117,     0.17217,     0.17317,     0.17417,     0.17518,     0.17618,     0.17718,     0.17818,     0.17918,     0.18018,     0.18118,     0.18218,     0.18318,     0.18418,     0.18519,     0.18619,     0.18719,     0.18819,     0.18919,     0.19019,     0.19119,\n",
       "           0.19219,     0.19319,     0.19419,      0.1952,      0.1962,      0.1972,      0.1982,      0.1992,      0.2002,      0.2012,      0.2022,      0.2032,      0.2042,     0.20521,     0.20621,     0.20721,     0.20821,     0.20921,     0.21021,     0.21121,     0.21221,     0.21321,     0.21421,     0.21522,\n",
       "           0.21622,     0.21722,     0.21822,     0.21922,     0.22022,     0.22122,     0.22222,     0.22322,     0.22422,     0.22523,     0.22623,     0.22723,     0.22823,     0.22923,     0.23023,     0.23123,     0.23223,     0.23323,     0.23423,     0.23524,     0.23624,     0.23724,     0.23824,     0.23924,\n",
       "           0.24024,     0.24124,     0.24224,     0.24324,     0.24424,     0.24525,     0.24625,     0.24725,     0.24825,     0.24925,     0.25025,     0.25125,     0.25225,     0.25325,     0.25425,     0.25526,     0.25626,     0.25726,     0.25826,     0.25926,     0.26026,     0.26126,     0.26226,     0.26326,\n",
       "           0.26426,     0.26527,     0.26627,     0.26727,     0.26827,     0.26927,     0.27027,     0.27127,     0.27227,     0.27327,     0.27427,     0.27528,     0.27628,     0.27728,     0.27828,     0.27928,     0.28028,     0.28128,     0.28228,     0.28328,     0.28428,     0.28529,     0.28629,     0.28729,\n",
       "           0.28829,     0.28929,     0.29029,     0.29129,     0.29229,     0.29329,     0.29429,      0.2953,      0.2963,      0.2973,      0.2983,      0.2993,      0.3003,      0.3013,      0.3023,      0.3033,      0.3043,     0.30531,     0.30631,     0.30731,     0.30831,     0.30931,     0.31031,     0.31131,\n",
       "           0.31231,     0.31331,     0.31431,     0.31532,     0.31632,     0.31732,     0.31832,     0.31932,     0.32032,     0.32132,     0.32232,     0.32332,     0.32432,     0.32533,     0.32633,     0.32733,     0.32833,     0.32933,     0.33033,     0.33133,     0.33233,     0.33333,     0.33433,     0.33534,\n",
       "           0.33634,     0.33734,     0.33834,     0.33934,     0.34034,     0.34134,     0.34234,     0.34334,     0.34434,     0.34535,     0.34635,     0.34735,     0.34835,     0.34935,     0.35035,     0.35135,     0.35235,     0.35335,     0.35435,     0.35536,     0.35636,     0.35736,     0.35836,     0.35936,\n",
       "           0.36036,     0.36136,     0.36236,     0.36336,     0.36436,     0.36537,     0.36637,     0.36737,     0.36837,     0.36937,     0.37037,     0.37137,     0.37237,     0.37337,     0.37437,     0.37538,     0.37638,     0.37738,     0.37838,     0.37938,     0.38038,     0.38138,     0.38238,     0.38338,\n",
       "           0.38438,     0.38539,     0.38639,     0.38739,     0.38839,     0.38939,     0.39039,     0.39139,     0.39239,     0.39339,     0.39439,      0.3954,      0.3964,      0.3974,      0.3984,      0.3994,      0.4004,      0.4014,      0.4024,      0.4034,      0.4044,     0.40541,     0.40641,     0.40741,\n",
       "           0.40841,     0.40941,     0.41041,     0.41141,     0.41241,     0.41341,     0.41441,     0.41542,     0.41642,     0.41742,     0.41842,     0.41942,     0.42042,     0.42142,     0.42242,     0.42342,     0.42442,     0.42543,     0.42643,     0.42743,     0.42843,     0.42943,     0.43043,     0.43143,\n",
       "           0.43243,     0.43343,     0.43443,     0.43544,     0.43644,     0.43744,     0.43844,     0.43944,     0.44044,     0.44144,     0.44244,     0.44344,     0.44444,     0.44545,     0.44645,     0.44745,     0.44845,     0.44945,     0.45045,     0.45145,     0.45245,     0.45345,     0.45445,     0.45546,\n",
       "           0.45646,     0.45746,     0.45846,     0.45946,     0.46046,     0.46146,     0.46246,     0.46346,     0.46446,     0.46547,     0.46647,     0.46747,     0.46847,     0.46947,     0.47047,     0.47147,     0.47247,     0.47347,     0.47447,     0.47548,     0.47648,     0.47748,     0.47848,     0.47948,\n",
       "           0.48048,     0.48148,     0.48248,     0.48348,     0.48448,     0.48549,     0.48649,     0.48749,     0.48849,     0.48949,     0.49049,     0.49149,     0.49249,     0.49349,     0.49449,      0.4955,      0.4965,      0.4975,      0.4985,      0.4995,      0.5005,      0.5015,      0.5025,      0.5035,\n",
       "            0.5045,     0.50551,     0.50651,     0.50751,     0.50851,     0.50951,     0.51051,     0.51151,     0.51251,     0.51351,     0.51451,     0.51552,     0.51652,     0.51752,     0.51852,     0.51952,     0.52052,     0.52152,     0.52252,     0.52352,     0.52452,     0.52553,     0.52653,     0.52753,\n",
       "           0.52853,     0.52953,     0.53053,     0.53153,     0.53253,     0.53353,     0.53453,     0.53554,     0.53654,     0.53754,     0.53854,     0.53954,     0.54054,     0.54154,     0.54254,     0.54354,     0.54454,     0.54555,     0.54655,     0.54755,     0.54855,     0.54955,     0.55055,     0.55155,\n",
       "           0.55255,     0.55355,     0.55455,     0.55556,     0.55656,     0.55756,     0.55856,     0.55956,     0.56056,     0.56156,     0.56256,     0.56356,     0.56456,     0.56557,     0.56657,     0.56757,     0.56857,     0.56957,     0.57057,     0.57157,     0.57257,     0.57357,     0.57457,     0.57558,\n",
       "           0.57658,     0.57758,     0.57858,     0.57958,     0.58058,     0.58158,     0.58258,     0.58358,     0.58458,     0.58559,     0.58659,     0.58759,     0.58859,     0.58959,     0.59059,     0.59159,     0.59259,     0.59359,     0.59459,      0.5956,      0.5966,      0.5976,      0.5986,      0.5996,\n",
       "            0.6006,      0.6016,      0.6026,      0.6036,      0.6046,     0.60561,     0.60661,     0.60761,     0.60861,     0.60961,     0.61061,     0.61161,     0.61261,     0.61361,     0.61461,     0.61562,     0.61662,     0.61762,     0.61862,     0.61962,     0.62062,     0.62162,     0.62262,     0.62362,\n",
       "           0.62462,     0.62563,     0.62663,     0.62763,     0.62863,     0.62963,     0.63063,     0.63163,     0.63263,     0.63363,     0.63463,     0.63564,     0.63664,     0.63764,     0.63864,     0.63964,     0.64064,     0.64164,     0.64264,     0.64364,     0.64464,     0.64565,     0.64665,     0.64765,\n",
       "           0.64865,     0.64965,     0.65065,     0.65165,     0.65265,     0.65365,     0.65465,     0.65566,     0.65666,     0.65766,     0.65866,     0.65966,     0.66066,     0.66166,     0.66266,     0.66366,     0.66466,     0.66567,     0.66667,     0.66767,     0.66867,     0.66967,     0.67067,     0.67167,\n",
       "           0.67267,     0.67367,     0.67467,     0.67568,     0.67668,     0.67768,     0.67868,     0.67968,     0.68068,     0.68168,     0.68268,     0.68368,     0.68468,     0.68569,     0.68669,     0.68769,     0.68869,     0.68969,     0.69069,     0.69169,     0.69269,     0.69369,     0.69469,      0.6957,\n",
       "            0.6967,      0.6977,      0.6987,      0.6997,      0.7007,      0.7017,      0.7027,      0.7037,      0.7047,     0.70571,     0.70671,     0.70771,     0.70871,     0.70971,     0.71071,     0.71171,     0.71271,     0.71371,     0.71471,     0.71572,     0.71672,     0.71772,     0.71872,     0.71972,\n",
       "           0.72072,     0.72172,     0.72272,     0.72372,     0.72472,     0.72573,     0.72673,     0.72773,     0.72873,     0.72973,     0.73073,     0.73173,     0.73273,     0.73373,     0.73473,     0.73574,     0.73674,     0.73774,     0.73874,     0.73974,     0.74074,     0.74174,     0.74274,     0.74374,\n",
       "           0.74474,     0.74575,     0.74675,     0.74775,     0.74875,     0.74975,     0.75075,     0.75175,     0.75275,     0.75375,     0.75475,     0.75576,     0.75676,     0.75776,     0.75876,     0.75976,     0.76076,     0.76176,     0.76276,     0.76376,     0.76476,     0.76577,     0.76677,     0.76777,\n",
       "           0.76877,     0.76977,     0.77077,     0.77177,     0.77277,     0.77377,     0.77477,     0.77578,     0.77678,     0.77778,     0.77878,     0.77978,     0.78078,     0.78178,     0.78278,     0.78378,     0.78478,     0.78579,     0.78679,     0.78779,     0.78879,     0.78979,     0.79079,     0.79179,\n",
       "           0.79279,     0.79379,     0.79479,      0.7958,      0.7968,      0.7978,      0.7988,      0.7998,      0.8008,      0.8018,      0.8028,      0.8038,      0.8048,     0.80581,     0.80681,     0.80781,     0.80881,     0.80981,     0.81081,     0.81181,     0.81281,     0.81381,     0.81481,     0.81582,\n",
       "           0.81682,     0.81782,     0.81882,     0.81982,     0.82082,     0.82182,     0.82282,     0.82382,     0.82482,     0.82583,     0.82683,     0.82783,     0.82883,     0.82983,     0.83083,     0.83183,     0.83283,     0.83383,     0.83483,     0.83584,     0.83684,     0.83784,     0.83884,     0.83984,\n",
       "           0.84084,     0.84184,     0.84284,     0.84384,     0.84484,     0.84585,     0.84685,     0.84785,     0.84885,     0.84985,     0.85085,     0.85185,     0.85285,     0.85385,     0.85485,     0.85586,     0.85686,     0.85786,     0.85886,     0.85986,     0.86086,     0.86186,     0.86286,     0.86386,\n",
       "           0.86486,     0.86587,     0.86687,     0.86787,     0.86887,     0.86987,     0.87087,     0.87187,     0.87287,     0.87387,     0.87487,     0.87588,     0.87688,     0.87788,     0.87888,     0.87988,     0.88088,     0.88188,     0.88288,     0.88388,     0.88488,     0.88589,     0.88689,     0.88789,\n",
       "           0.88889,     0.88989,     0.89089,     0.89189,     0.89289,     0.89389,     0.89489,      0.8959,      0.8969,      0.8979,      0.8989,      0.8999,      0.9009,      0.9019,      0.9029,      0.9039,      0.9049,     0.90591,     0.90691,     0.90791,     0.90891,     0.90991,     0.91091,     0.91191,\n",
       "           0.91291,     0.91391,     0.91491,     0.91592,     0.91692,     0.91792,     0.91892,     0.91992,     0.92092,     0.92192,     0.92292,     0.92392,     0.92492,     0.92593,     0.92693,     0.92793,     0.92893,     0.92993,     0.93093,     0.93193,     0.93293,     0.93393,     0.93493,     0.93594,\n",
       "           0.93694,     0.93794,     0.93894,     0.93994,     0.94094,     0.94194,     0.94294,     0.94394,     0.94494,     0.94595,     0.94695,     0.94795,     0.94895,     0.94995,     0.95095,     0.95195,     0.95295,     0.95395,     0.95495,     0.95596,     0.95696,     0.95796,     0.95896,     0.95996,\n",
       "           0.96096,     0.96196,     0.96296,     0.96396,     0.96496,     0.96597,     0.96697,     0.96797,     0.96897,     0.96997,     0.97097,     0.97197,     0.97297,     0.97397,     0.97497,     0.97598,     0.97698,     0.97798,     0.97898,     0.97998,     0.98098,     0.98198,     0.98298,     0.98398,\n",
       "           0.98498,     0.98599,     0.98699,     0.98799,     0.98899,     0.98999,     0.99099,     0.99199,     0.99299,     0.99399,     0.99499,       0.996,       0.997,       0.998,       0.999,           1]), array([[    0.20183,     0.20183,     0.25526,       0.291,     0.31673,     0.33579,     0.35258,     0.36754,     0.38206,     0.39306,     0.40407,     0.41276,     0.41903,     0.42666,     0.43511,     0.44065,     0.44847,     0.45562,     0.46059,     0.46599,     0.46929,     0.47171,     0.47673,\n",
       "            0.48281,     0.48979,     0.49334,      0.4973,     0.50014,     0.50237,     0.50485,      0.5091,     0.51154,     0.51473,     0.51941,     0.52418,     0.52729,     0.52973,     0.53255,     0.53718,     0.53996,     0.54173,     0.54541,     0.54732,     0.54908,     0.55221,       0.555,\n",
       "            0.55768,     0.55989,      0.5631,     0.56504,     0.56642,      0.5678,     0.57042,     0.57193,     0.57417,     0.57527,     0.57764,     0.57913,     0.58093,     0.58238,     0.58352,     0.58479,     0.58633,     0.58678,     0.58873,     0.59082,     0.59118,     0.59206,     0.59316,\n",
       "            0.59566,     0.59672,     0.59804,     0.59882,      0.5995,     0.60025,     0.60146,     0.60273,      0.6036,     0.60537,     0.60685,     0.60684,     0.60993,     0.61058,     0.61287,     0.61374,     0.61639,     0.61773,     0.61843,     0.61953,     0.62039,     0.62208,      0.6236,\n",
       "            0.62548,     0.62623,     0.62651,      0.6278,     0.62911,     0.63038,     0.63165,     0.63339,     0.63491,     0.63536,     0.63676,     0.63751,     0.63847,     0.63896,     0.64008,     0.64185,     0.64263,     0.64276,     0.64289,     0.64365,     0.64547,     0.64615,     0.64677,\n",
       "            0.64697,     0.64837,     0.64922,     0.65104,     0.65102,     0.65201,      0.6536,     0.65541,     0.65805,     0.65957,     0.66216,     0.66274,     0.66299,     0.66323,     0.66339,     0.66355,     0.66385,     0.66475,     0.66632,     0.66736,     0.66906,     0.66927,     0.66999,\n",
       "            0.67166,     0.67258,     0.67292,     0.67358,      0.6744,     0.67506,     0.67564,     0.67684,       0.678,     0.67868,     0.67986,     0.68042,     0.68142,     0.68166,     0.68244,     0.68308,     0.68375,     0.68473,     0.68559,      0.6865,     0.68679,     0.68709,     0.68738,\n",
       "            0.68779,     0.68822,     0.68895,      0.6895,     0.69053,     0.69218,     0.69286,     0.69372,     0.69389,     0.69436,     0.69458,     0.69477,      0.6954,     0.69637,     0.69765,     0.69821,     0.69911,     0.70038,     0.70051,     0.70063,     0.70075,     0.70113,     0.70224,\n",
       "            0.70226,     0.70302,     0.70345,     0.70385,     0.70426,     0.70564,     0.70586,     0.70607,     0.70646,     0.70726,     0.70754,     0.70848,     0.70934,        0.71,     0.71036,     0.71062,     0.71127,     0.71163,     0.71191,     0.71452,     0.71494,     0.71545,     0.71636,\n",
       "            0.71676,     0.71815,     0.71791,     0.71785,     0.71918,     0.71955,     0.72032,     0.72218,     0.72326,     0.72354,     0.72321,     0.72426,     0.72437,     0.72449,      0.7246,     0.72471,     0.72623,     0.72762,     0.72798,     0.72822,     0.72842,     0.72863,     0.72903,\n",
       "            0.73021,     0.73098,     0.73198,     0.73222,      0.7322,     0.73279,     0.73331,      0.7335,      0.7337,     0.73476,     0.73501,     0.73518,     0.73535,     0.73574,     0.73639,     0.73762,     0.73786,     0.73811,     0.73851,     0.73912,     0.73904,     0.74075,     0.74101,\n",
       "            0.74102,     0.74081,     0.74067,     0.74225,     0.74279,     0.74305,     0.74342,     0.74418,      0.7455,     0.74606,     0.74645,     0.74706,     0.74877,     0.74991,     0.75017,     0.75273,     0.75307,     0.75362,     0.75495,     0.75545,     0.75579,     0.75578,     0.75563,\n",
       "            0.75645,     0.75659,     0.75708,     0.75749,     0.75757,     0.75794,      0.7578,     0.75856,     0.75924,     0.76003,     0.75998,     0.75994,     0.75989,     0.75975,     0.76068,     0.76056,     0.76069,     0.76103,     0.76262,      0.7631,     0.76337,     0.76382,     0.76607,\n",
       "            0.76732,     0.76784,     0.76918,     0.77067,     0.77107,     0.77165,     0.77238,     0.77313,       0.773,     0.77435,     0.77503,     0.77578,     0.77584,     0.77573,     0.77585,     0.77597,      0.7761,     0.77622,     0.77634,      0.7768,     0.77757,     0.77781,     0.77914,\n",
       "            0.77951,     0.77943,     0.77911,     0.77967,     0.77959,     0.77952,     0.77995,      0.7804,     0.78077,     0.78204,     0.78247,     0.78237,     0.78358,     0.78352,     0.78347,     0.78388,     0.78382,     0.78375,     0.78469,     0.78547,     0.78748,     0.78791,     0.78833,\n",
       "             0.7889,     0.78885,      0.7888,     0.78875,     0.78921,     0.79022,     0.79047,     0.79068,     0.79195,     0.79229,     0.79267,     0.79409,     0.79457,     0.79496,     0.79481,     0.79519,     0.79542,     0.79592,     0.79631,      0.7966,     0.79683,     0.79706,     0.79798,\n",
       "            0.79823,     0.79848,     0.79924,     0.79959,     0.80072,     0.80132,     0.80194,     0.80176,     0.80215,     0.80223,     0.80287,     0.80513,     0.80826,     0.80867,       0.809,     0.80972,     0.81102,     0.81144,     0.81131,     0.81114,     0.81159,     0.81151,     0.81114,\n",
       "            0.81097,     0.81089,     0.81071,     0.81113,     0.81183,     0.81207,     0.81231,     0.81261,     0.81297,     0.81297,     0.81293,     0.81288,     0.81284,     0.81385,     0.81422,     0.81411,     0.81401,     0.81408,     0.81474,      0.8151,     0.81558,     0.81685,     0.81696,\n",
       "            0.81707,     0.81718,     0.81729,      0.8174,     0.81751,     0.81807,     0.81854,     0.81891,     0.81875,     0.81866,     0.81858,     0.81927,     0.81952,     0.81977,     0.82158,     0.82215,      0.8221,     0.82204,     0.82223,     0.82283,      0.8231,     0.82338,     0.82327,\n",
       "            0.82318,     0.82369,     0.82362,      0.8242,     0.82404,     0.82388,     0.82447,     0.82524,       0.826,     0.82736,     0.82763,     0.82801,     0.82863,     0.82976,     0.83013,     0.83003,     0.83149,     0.83216,     0.83261,     0.83304,     0.83353,     0.83363,     0.83373,\n",
       "            0.83382,     0.83392,     0.83402,     0.83412,     0.83422,     0.83426,     0.83453,     0.83479,     0.83619,      0.8363,     0.83655,     0.83646,      0.8366,     0.83699,     0.83851,     0.83931,     0.83927,     0.83999,     0.84064,     0.84124,     0.84103,     0.84339,     0.84404,\n",
       "            0.84388,     0.84439,     0.84432,     0.84424,     0.84417,     0.84416,     0.84444,     0.84471,     0.84514,     0.84677,     0.84989,     0.85041,     0.85033,     0.85013,      0.8501,     0.85007,     0.85004,     0.85001,      0.8503,      0.8523,     0.85226,     0.85222,     0.85219,\n",
       "            0.85208,     0.85247,     0.85232,     0.85453,      0.8547,     0.85499,     0.85528,     0.85687,     0.85773,     0.85859,      0.8594,     0.86005,     0.86007,     0.86003,     0.85999,     0.86165,     0.86151,     0.86137,     0.86123,     0.86203,     0.86246,     0.86252,     0.86238,\n",
       "            0.86226,     0.86219,     0.86198,     0.86191,     0.86182,     0.86242,     0.86235,     0.86225,     0.86211,     0.86197,     0.86169,     0.86245,     0.86238,     0.86259,     0.86304,     0.86401,     0.86475,      0.8657,     0.86588,     0.86606,     0.86624,     0.86642,     0.86636,\n",
       "            0.86622,     0.86656,     0.86702,     0.86771,     0.87029,     0.87081,     0.87131,     0.87178,     0.87224,     0.87271,     0.87354,     0.87349,     0.87345,     0.87335,     0.87321,     0.87399,     0.87388,     0.87435,     0.87483,      0.8753,     0.87615,      0.8771,     0.87812,\n",
       "            0.87806,     0.87793,     0.87996,     0.88016,     0.88035,     0.88054,     0.88072,     0.88067,     0.88062,     0.88052,     0.88107,     0.88361,      0.8841,     0.88403,     0.88485,     0.88555,     0.88653,     0.88751,     0.88747,     0.88924,     0.88926,     0.88908,     0.88884,\n",
       "            0.88874,     0.88868,     0.88948,     0.88945,     0.88942,     0.88939,     0.88998,     0.89086,     0.89118,     0.89113,     0.89094,     0.89082,     0.89099,     0.89255,     0.89242,      0.8923,     0.89218,     0.89206,     0.89176,     0.89163,      0.8915,     0.89226,     0.89213,\n",
       "            0.89289,     0.89385,     0.89479,     0.89476,     0.89472,     0.89469,     0.89452,     0.89446,      0.8947,     0.89522,     0.89602,     0.89748,      0.8979,     0.89916,     0.90101,     0.90095,     0.90159,     0.90151,     0.90139,     0.90223,     0.90431,     0.90621,     0.90617,\n",
       "             0.9069,      0.9082,     0.90815,     0.90805,     0.90772,     0.90773,     0.90865,     0.90902,     0.90939,     0.90956,     0.91046,     0.91051,      0.9115,     0.91138,     0.91208,     0.91301,     0.91333,     0.91328,     0.91311,     0.91303,     0.91386,     0.91584,     0.91561,\n",
       "            0.91551,     0.91546,     0.91539,      0.9151,     0.91501,     0.91496,     0.91569,     0.91654,     0.91712,     0.91812,     0.91966,     0.92041,     0.92089,     0.92125,      0.9212,     0.92114,      0.9222,     0.92214,     0.92509,     0.92546,     0.92552,     0.92612,     0.92635,\n",
       "            0.92727,     0.92724,     0.92721,     0.92981,     0.93057,     0.93051,     0.93042,     0.93024,     0.93477,     0.93462,     0.93459,     0.93461,     0.93568,     0.93634,     0.93681,     0.93675,     0.93658,     0.93641,     0.93636,     0.93602,     0.93723,     0.93714,     0.93703,\n",
       "            0.94058,     0.94071,     0.94171,     0.94166,      0.9415,     0.94266,     0.94251,     0.94283,     0.94368,     0.94359,     0.94368,     0.94421,     0.94459,     0.94442,     0.94563,     0.94557,     0.94552,      0.9455,     0.94547,     0.94521,     0.94516,       0.945,     0.94492,\n",
       "            0.94749,      0.9473,      0.9486,     0.94924,     0.94986,     0.94978,     0.94967,     0.94962,     0.94959,     0.94947,     0.94933,      0.9493,     0.94924,     0.94915,     0.94896,     0.94903,     0.94975,     0.95055,      0.9525,     0.95413,     0.95422,     0.95408,     0.95499,\n",
       "            0.95689,     0.95672,     0.95668,     0.95818,     0.95951,     0.95933,     0.95929,     0.96069,     0.96041,     0.96028,     0.96017,     0.96011,     0.96007,     0.96003,     0.96244,     0.96277,     0.96386,     0.96412,     0.96396,     0.96493,     0.96541,      0.9653,      0.9667,\n",
       "            0.96656,     0.96652,     0.96794,     0.96782,     0.96772,     0.96761,     0.96758,     0.96755,      0.9675,     0.96738,     0.96733,     0.96855,     0.97031,      0.9702,     0.97136,      0.9715,     0.97141,     0.97127,     0.97125,     0.97118,     0.97132,     0.97265,     0.97261,\n",
       "            0.97254,     0.97256,     0.97371,     0.97588,     0.97675,     0.97739,     0.97737,     0.97844,       0.979,     0.97893,      0.9789,     0.97888,     0.97996,      0.9805,     0.98217,     0.98208,     0.98206,     0.98226,     0.98369,     0.98365,     0.98363,      0.9836,     0.98345,\n",
       "            0.98341,     0.98337,     0.98331,     0.98511,     0.98509,     0.98507,     0.98506,     0.98498,     0.98492,     0.98484,     0.98479,     0.98476,      0.9847,     0.98458,     0.98455,     0.98465,     0.98595,     0.98638,     0.98636,     0.98626,     0.98618,      0.9861,     0.98601,\n",
       "            0.98596,      0.9879,     0.98834,     0.98971,     0.98982,     0.98978,     0.98977,     0.98975,     0.98969,     0.98949,      0.9894,     0.98936,     0.98931,     0.98924,     0.98921,     0.98919,     0.98918,      0.9891,     0.98909,     0.98902,     0.99118,     0.99108,       0.991,\n",
       "            0.99087,     0.99077,     0.99293,     0.99292,     0.99288,     0.99445,     0.99523,     0.99518,     0.99516,     0.99513,     0.99509,     0.99506,     0.99503,     0.99498,     0.99491,     0.99481,     0.99475,     0.99466,     0.99463,     0.99458,     0.99454,     0.99446,      0.9944,\n",
       "            0.99435,     0.99424,     0.99419,     0.99408,     0.99397,     0.99431,     0.99687,      0.9968,     0.99672,     0.99666,     0.99658,     0.99653,     0.99641,     0.99629,      0.9962,     0.99605,     0.99603,     0.99595,     0.99587,     0.99575,     0.99564,     0.99556,     0.99552,\n",
       "             0.9953,     0.99519,     0.99502,     0.99481,     0.99456,     0.99434,     0.99393,     0.99361,           1,           1,           1,           1,           1,           1,           1,           1,           1,           1,           1,           1,           1,           1,           1,\n",
       "                  1,           1,           1,           1,           1,           1,           1,           1,           1,           1,           1,           1,           1,           1,           1,           1,           1,           1,           1,           1,           1,           1,           1,\n",
       "                  1,           1,           1,           1,           1,           1,           1,           1,           1,           1,           1,           1,           1,           1,           1,           1,           1,           1,           1,           1,           1,           1,           1,\n",
       "                  1,           1,           1,           1,           1,           1,           1,           1,           1,           1,           1]]), 'Confidence', 'Precision'], [array([          0,    0.001001,    0.002002,    0.003003,    0.004004,    0.005005,    0.006006,    0.007007,    0.008008,    0.009009,     0.01001,    0.011011,    0.012012,    0.013013,    0.014014,    0.015015,    0.016016,    0.017017,    0.018018,    0.019019,     0.02002,    0.021021,    0.022022,    0.023023,\n",
       "          0.024024,    0.025025,    0.026026,    0.027027,    0.028028,    0.029029,     0.03003,    0.031031,    0.032032,    0.033033,    0.034034,    0.035035,    0.036036,    0.037037,    0.038038,    0.039039,     0.04004,    0.041041,    0.042042,    0.043043,    0.044044,    0.045045,    0.046046,    0.047047,\n",
       "          0.048048,    0.049049,     0.05005,    0.051051,    0.052052,    0.053053,    0.054054,    0.055055,    0.056056,    0.057057,    0.058058,    0.059059,     0.06006,    0.061061,    0.062062,    0.063063,    0.064064,    0.065065,    0.066066,    0.067067,    0.068068,    0.069069,     0.07007,    0.071071,\n",
       "          0.072072,    0.073073,    0.074074,    0.075075,    0.076076,    0.077077,    0.078078,    0.079079,     0.08008,    0.081081,    0.082082,    0.083083,    0.084084,    0.085085,    0.086086,    0.087087,    0.088088,    0.089089,     0.09009,    0.091091,    0.092092,    0.093093,    0.094094,    0.095095,\n",
       "          0.096096,    0.097097,    0.098098,    0.099099,      0.1001,      0.1011,      0.1021,      0.1031,      0.1041,     0.10511,     0.10611,     0.10711,     0.10811,     0.10911,     0.11011,     0.11111,     0.11211,     0.11311,     0.11411,     0.11512,     0.11612,     0.11712,     0.11812,     0.11912,\n",
       "           0.12012,     0.12112,     0.12212,     0.12312,     0.12412,     0.12513,     0.12613,     0.12713,     0.12813,     0.12913,     0.13013,     0.13113,     0.13213,     0.13313,     0.13413,     0.13514,     0.13614,     0.13714,     0.13814,     0.13914,     0.14014,     0.14114,     0.14214,     0.14314,\n",
       "           0.14414,     0.14515,     0.14615,     0.14715,     0.14815,     0.14915,     0.15015,     0.15115,     0.15215,     0.15315,     0.15415,     0.15516,     0.15616,     0.15716,     0.15816,     0.15916,     0.16016,     0.16116,     0.16216,     0.16316,     0.16416,     0.16517,     0.16617,     0.16717,\n",
       "           0.16817,     0.16917,     0.17017,     0.17117,     0.17217,     0.17317,     0.17417,     0.17518,     0.17618,     0.17718,     0.17818,     0.17918,     0.18018,     0.18118,     0.18218,     0.18318,     0.18418,     0.18519,     0.18619,     0.18719,     0.18819,     0.18919,     0.19019,     0.19119,\n",
       "           0.19219,     0.19319,     0.19419,      0.1952,      0.1962,      0.1972,      0.1982,      0.1992,      0.2002,      0.2012,      0.2022,      0.2032,      0.2042,     0.20521,     0.20621,     0.20721,     0.20821,     0.20921,     0.21021,     0.21121,     0.21221,     0.21321,     0.21421,     0.21522,\n",
       "           0.21622,     0.21722,     0.21822,     0.21922,     0.22022,     0.22122,     0.22222,     0.22322,     0.22422,     0.22523,     0.22623,     0.22723,     0.22823,     0.22923,     0.23023,     0.23123,     0.23223,     0.23323,     0.23423,     0.23524,     0.23624,     0.23724,     0.23824,     0.23924,\n",
       "           0.24024,     0.24124,     0.24224,     0.24324,     0.24424,     0.24525,     0.24625,     0.24725,     0.24825,     0.24925,     0.25025,     0.25125,     0.25225,     0.25325,     0.25425,     0.25526,     0.25626,     0.25726,     0.25826,     0.25926,     0.26026,     0.26126,     0.26226,     0.26326,\n",
       "           0.26426,     0.26527,     0.26627,     0.26727,     0.26827,     0.26927,     0.27027,     0.27127,     0.27227,     0.27327,     0.27427,     0.27528,     0.27628,     0.27728,     0.27828,     0.27928,     0.28028,     0.28128,     0.28228,     0.28328,     0.28428,     0.28529,     0.28629,     0.28729,\n",
       "           0.28829,     0.28929,     0.29029,     0.29129,     0.29229,     0.29329,     0.29429,      0.2953,      0.2963,      0.2973,      0.2983,      0.2993,      0.3003,      0.3013,      0.3023,      0.3033,      0.3043,     0.30531,     0.30631,     0.30731,     0.30831,     0.30931,     0.31031,     0.31131,\n",
       "           0.31231,     0.31331,     0.31431,     0.31532,     0.31632,     0.31732,     0.31832,     0.31932,     0.32032,     0.32132,     0.32232,     0.32332,     0.32432,     0.32533,     0.32633,     0.32733,     0.32833,     0.32933,     0.33033,     0.33133,     0.33233,     0.33333,     0.33433,     0.33534,\n",
       "           0.33634,     0.33734,     0.33834,     0.33934,     0.34034,     0.34134,     0.34234,     0.34334,     0.34434,     0.34535,     0.34635,     0.34735,     0.34835,     0.34935,     0.35035,     0.35135,     0.35235,     0.35335,     0.35435,     0.35536,     0.35636,     0.35736,     0.35836,     0.35936,\n",
       "           0.36036,     0.36136,     0.36236,     0.36336,     0.36436,     0.36537,     0.36637,     0.36737,     0.36837,     0.36937,     0.37037,     0.37137,     0.37237,     0.37337,     0.37437,     0.37538,     0.37638,     0.37738,     0.37838,     0.37938,     0.38038,     0.38138,     0.38238,     0.38338,\n",
       "           0.38438,     0.38539,     0.38639,     0.38739,     0.38839,     0.38939,     0.39039,     0.39139,     0.39239,     0.39339,     0.39439,      0.3954,      0.3964,      0.3974,      0.3984,      0.3994,      0.4004,      0.4014,      0.4024,      0.4034,      0.4044,     0.40541,     0.40641,     0.40741,\n",
       "           0.40841,     0.40941,     0.41041,     0.41141,     0.41241,     0.41341,     0.41441,     0.41542,     0.41642,     0.41742,     0.41842,     0.41942,     0.42042,     0.42142,     0.42242,     0.42342,     0.42442,     0.42543,     0.42643,     0.42743,     0.42843,     0.42943,     0.43043,     0.43143,\n",
       "           0.43243,     0.43343,     0.43443,     0.43544,     0.43644,     0.43744,     0.43844,     0.43944,     0.44044,     0.44144,     0.44244,     0.44344,     0.44444,     0.44545,     0.44645,     0.44745,     0.44845,     0.44945,     0.45045,     0.45145,     0.45245,     0.45345,     0.45445,     0.45546,\n",
       "           0.45646,     0.45746,     0.45846,     0.45946,     0.46046,     0.46146,     0.46246,     0.46346,     0.46446,     0.46547,     0.46647,     0.46747,     0.46847,     0.46947,     0.47047,     0.47147,     0.47247,     0.47347,     0.47447,     0.47548,     0.47648,     0.47748,     0.47848,     0.47948,\n",
       "           0.48048,     0.48148,     0.48248,     0.48348,     0.48448,     0.48549,     0.48649,     0.48749,     0.48849,     0.48949,     0.49049,     0.49149,     0.49249,     0.49349,     0.49449,      0.4955,      0.4965,      0.4975,      0.4985,      0.4995,      0.5005,      0.5015,      0.5025,      0.5035,\n",
       "            0.5045,     0.50551,     0.50651,     0.50751,     0.50851,     0.50951,     0.51051,     0.51151,     0.51251,     0.51351,     0.51451,     0.51552,     0.51652,     0.51752,     0.51852,     0.51952,     0.52052,     0.52152,     0.52252,     0.52352,     0.52452,     0.52553,     0.52653,     0.52753,\n",
       "           0.52853,     0.52953,     0.53053,     0.53153,     0.53253,     0.53353,     0.53453,     0.53554,     0.53654,     0.53754,     0.53854,     0.53954,     0.54054,     0.54154,     0.54254,     0.54354,     0.54454,     0.54555,     0.54655,     0.54755,     0.54855,     0.54955,     0.55055,     0.55155,\n",
       "           0.55255,     0.55355,     0.55455,     0.55556,     0.55656,     0.55756,     0.55856,     0.55956,     0.56056,     0.56156,     0.56256,     0.56356,     0.56456,     0.56557,     0.56657,     0.56757,     0.56857,     0.56957,     0.57057,     0.57157,     0.57257,     0.57357,     0.57457,     0.57558,\n",
       "           0.57658,     0.57758,     0.57858,     0.57958,     0.58058,     0.58158,     0.58258,     0.58358,     0.58458,     0.58559,     0.58659,     0.58759,     0.58859,     0.58959,     0.59059,     0.59159,     0.59259,     0.59359,     0.59459,      0.5956,      0.5966,      0.5976,      0.5986,      0.5996,\n",
       "            0.6006,      0.6016,      0.6026,      0.6036,      0.6046,     0.60561,     0.60661,     0.60761,     0.60861,     0.60961,     0.61061,     0.61161,     0.61261,     0.61361,     0.61461,     0.61562,     0.61662,     0.61762,     0.61862,     0.61962,     0.62062,     0.62162,     0.62262,     0.62362,\n",
       "           0.62462,     0.62563,     0.62663,     0.62763,     0.62863,     0.62963,     0.63063,     0.63163,     0.63263,     0.63363,     0.63463,     0.63564,     0.63664,     0.63764,     0.63864,     0.63964,     0.64064,     0.64164,     0.64264,     0.64364,     0.64464,     0.64565,     0.64665,     0.64765,\n",
       "           0.64865,     0.64965,     0.65065,     0.65165,     0.65265,     0.65365,     0.65465,     0.65566,     0.65666,     0.65766,     0.65866,     0.65966,     0.66066,     0.66166,     0.66266,     0.66366,     0.66466,     0.66567,     0.66667,     0.66767,     0.66867,     0.66967,     0.67067,     0.67167,\n",
       "           0.67267,     0.67367,     0.67467,     0.67568,     0.67668,     0.67768,     0.67868,     0.67968,     0.68068,     0.68168,     0.68268,     0.68368,     0.68468,     0.68569,     0.68669,     0.68769,     0.68869,     0.68969,     0.69069,     0.69169,     0.69269,     0.69369,     0.69469,      0.6957,\n",
       "            0.6967,      0.6977,      0.6987,      0.6997,      0.7007,      0.7017,      0.7027,      0.7037,      0.7047,     0.70571,     0.70671,     0.70771,     0.70871,     0.70971,     0.71071,     0.71171,     0.71271,     0.71371,     0.71471,     0.71572,     0.71672,     0.71772,     0.71872,     0.71972,\n",
       "           0.72072,     0.72172,     0.72272,     0.72372,     0.72472,     0.72573,     0.72673,     0.72773,     0.72873,     0.72973,     0.73073,     0.73173,     0.73273,     0.73373,     0.73473,     0.73574,     0.73674,     0.73774,     0.73874,     0.73974,     0.74074,     0.74174,     0.74274,     0.74374,\n",
       "           0.74474,     0.74575,     0.74675,     0.74775,     0.74875,     0.74975,     0.75075,     0.75175,     0.75275,     0.75375,     0.75475,     0.75576,     0.75676,     0.75776,     0.75876,     0.75976,     0.76076,     0.76176,     0.76276,     0.76376,     0.76476,     0.76577,     0.76677,     0.76777,\n",
       "           0.76877,     0.76977,     0.77077,     0.77177,     0.77277,     0.77377,     0.77477,     0.77578,     0.77678,     0.77778,     0.77878,     0.77978,     0.78078,     0.78178,     0.78278,     0.78378,     0.78478,     0.78579,     0.78679,     0.78779,     0.78879,     0.78979,     0.79079,     0.79179,\n",
       "           0.79279,     0.79379,     0.79479,      0.7958,      0.7968,      0.7978,      0.7988,      0.7998,      0.8008,      0.8018,      0.8028,      0.8038,      0.8048,     0.80581,     0.80681,     0.80781,     0.80881,     0.80981,     0.81081,     0.81181,     0.81281,     0.81381,     0.81481,     0.81582,\n",
       "           0.81682,     0.81782,     0.81882,     0.81982,     0.82082,     0.82182,     0.82282,     0.82382,     0.82482,     0.82583,     0.82683,     0.82783,     0.82883,     0.82983,     0.83083,     0.83183,     0.83283,     0.83383,     0.83483,     0.83584,     0.83684,     0.83784,     0.83884,     0.83984,\n",
       "           0.84084,     0.84184,     0.84284,     0.84384,     0.84484,     0.84585,     0.84685,     0.84785,     0.84885,     0.84985,     0.85085,     0.85185,     0.85285,     0.85385,     0.85485,     0.85586,     0.85686,     0.85786,     0.85886,     0.85986,     0.86086,     0.86186,     0.86286,     0.86386,\n",
       "           0.86486,     0.86587,     0.86687,     0.86787,     0.86887,     0.86987,     0.87087,     0.87187,     0.87287,     0.87387,     0.87487,     0.87588,     0.87688,     0.87788,     0.87888,     0.87988,     0.88088,     0.88188,     0.88288,     0.88388,     0.88488,     0.88589,     0.88689,     0.88789,\n",
       "           0.88889,     0.88989,     0.89089,     0.89189,     0.89289,     0.89389,     0.89489,      0.8959,      0.8969,      0.8979,      0.8989,      0.8999,      0.9009,      0.9019,      0.9029,      0.9039,      0.9049,     0.90591,     0.90691,     0.90791,     0.90891,     0.90991,     0.91091,     0.91191,\n",
       "           0.91291,     0.91391,     0.91491,     0.91592,     0.91692,     0.91792,     0.91892,     0.91992,     0.92092,     0.92192,     0.92292,     0.92392,     0.92492,     0.92593,     0.92693,     0.92793,     0.92893,     0.92993,     0.93093,     0.93193,     0.93293,     0.93393,     0.93493,     0.93594,\n",
       "           0.93694,     0.93794,     0.93894,     0.93994,     0.94094,     0.94194,     0.94294,     0.94394,     0.94494,     0.94595,     0.94695,     0.94795,     0.94895,     0.94995,     0.95095,     0.95195,     0.95295,     0.95395,     0.95495,     0.95596,     0.95696,     0.95796,     0.95896,     0.95996,\n",
       "           0.96096,     0.96196,     0.96296,     0.96396,     0.96496,     0.96597,     0.96697,     0.96797,     0.96897,     0.96997,     0.97097,     0.97197,     0.97297,     0.97397,     0.97497,     0.97598,     0.97698,     0.97798,     0.97898,     0.97998,     0.98098,     0.98198,     0.98298,     0.98398,\n",
       "           0.98498,     0.98599,     0.98699,     0.98799,     0.98899,     0.98999,     0.99099,     0.99199,     0.99299,     0.99399,     0.99499,       0.996,       0.997,       0.998,       0.999,           1]), array([[    0.98537,     0.98537,     0.98537,     0.98446,     0.98263,     0.98263,     0.98263,     0.98172,     0.97989,     0.97989,     0.97989,     0.97989,     0.97898,     0.97898,     0.97898,     0.97898,     0.97898,     0.97806,     0.97806,     0.97623,     0.97623,     0.97623,     0.97623,\n",
       "            0.97623,     0.97623,     0.97623,     0.97623,     0.97532,     0.97532,     0.97532,     0.97441,     0.97349,     0.97349,     0.97349,     0.97258,     0.97258,     0.97258,     0.97166,     0.97166,     0.97075,     0.97075,     0.97075,     0.96984,     0.96892,     0.96892,     0.96892,\n",
       "            0.96892,     0.96892,     0.96892,     0.96892,     0.96846,     0.96801,     0.96709,     0.96527,     0.96527,     0.96344,     0.96252,     0.96161,     0.96161,     0.96069,     0.96069,     0.95887,     0.95874,     0.95704,     0.95704,     0.95704,     0.95704,     0.95612,     0.95612,\n",
       "             0.9543,     0.95352,     0.95333,     0.95247,     0.95155,     0.95155,     0.95155,     0.95155,     0.95066,     0.95064,     0.94955,     0.94881,     0.94881,     0.94881,     0.94881,     0.94881,     0.94881,     0.94881,     0.94816,      0.9479,      0.9479,      0.9479,      0.9479,\n",
       "             0.9479,      0.9479,      0.9479,      0.9479,     0.94698,     0.94607,     0.94607,     0.94607,     0.94607,     0.94516,     0.94381,     0.94333,     0.94333,     0.94333,     0.94333,     0.94333,     0.94333,     0.94333,     0.94333,     0.94333,      0.9415,      0.9415,      0.9415,\n",
       "             0.9415,      0.9415,      0.9415,     0.94134,     0.94059,     0.94059,     0.94059,     0.94059,     0.93967,     0.93967,     0.93876,     0.93876,     0.93876,     0.93784,     0.93784,     0.93784,     0.93784,     0.93784,     0.93784,     0.93784,     0.93784,     0.93599,      0.9351,\n",
       "            0.93419,     0.93419,     0.93419,     0.93419,      0.9334,      0.9324,     0.93236,     0.93236,     0.93144,     0.93144,     0.93144,     0.93144,     0.93053,     0.93053,     0.93053,     0.92962,     0.92962,     0.92911,      0.9287,      0.9287,      0.9287,      0.9287,      0.9287,\n",
       "             0.9287,     0.92815,     0.92687,     0.92687,     0.92687,     0.92687,     0.92687,     0.92687,     0.92618,     0.92596,     0.92596,     0.92588,     0.92505,     0.92505,     0.92505,     0.92505,     0.92505,     0.92505,     0.92505,     0.92505,     0.92505,     0.92505,     0.92483,\n",
       "            0.92413,     0.92322,     0.92322,     0.92322,     0.92322,      0.9223,      0.9223,      0.9223,      0.9223,      0.9223,      0.9223,     0.92193,     0.92132,     0.92048,     0.92048,     0.92048,     0.91956,     0.91956,     0.91956,     0.91956,     0.91956,     0.91773,     0.91773,\n",
       "            0.91773,     0.91764,     0.91656,      0.9159,     0.91531,     0.91408,     0.91408,     0.91408,     0.91408,     0.91385,     0.91235,     0.91225,     0.91225,     0.91225,     0.91225,     0.91225,     0.91225,     0.91042,     0.91042,     0.91042,     0.91042,     0.91042,     0.91042,\n",
       "            0.91042,     0.91042,     0.91042,     0.91042,     0.90972,     0.90951,     0.90951,     0.90951,     0.90951,     0.90951,     0.90951,     0.90951,     0.90951,     0.90951,     0.90951,     0.90951,     0.90951,     0.90951,     0.90951,     0.90951,     0.90859,     0.90859,     0.90859,\n",
       "            0.90758,     0.90655,     0.90592,     0.90494,     0.90494,     0.90494,     0.90494,     0.90494,     0.90494,     0.90494,     0.90494,     0.90494,     0.90402,     0.90402,     0.90402,     0.90402,     0.90402,     0.90402,     0.90398,     0.90311,     0.90311,     0.90237,     0.90166,\n",
       "            0.90128,     0.90066,     0.90037,     0.90037,     0.89975,     0.89874,     0.89805,     0.89762,     0.89762,     0.89748,     0.89724,     0.89701,     0.89678,     0.89488,     0.89488,     0.89425,     0.89397,     0.89397,     0.89397,     0.89397,     0.89347,     0.89305,     0.89214,\n",
       "            0.89031,     0.89031,     0.89031,      0.8894,      0.8894,     0.88848,      0.8871,     0.88574,     0.88399,     0.88391,     0.88391,     0.88391,     0.88267,     0.88208,     0.88208,     0.88208,     0.88208,     0.88208,     0.88208,     0.88121,     0.88117,     0.87994,     0.87934,\n",
       "            0.87934,     0.87858,      0.8766,     0.87655,     0.87618,      0.8758,     0.87569,     0.87569,     0.87569,     0.87477,     0.87461,     0.87408,      0.8737,     0.87343,     0.87316,     0.87197,     0.87163,     0.87129,     0.87112,     0.87112,     0.87112,     0.87112,     0.87112,\n",
       "            0.87108,     0.87081,     0.87054,     0.87028,      0.8702,      0.8702,      0.8702,     0.87013,     0.86929,     0.86929,     0.86837,     0.86837,     0.86837,     0.86837,     0.86747,     0.86746,      0.8672,     0.86563,     0.86563,     0.86563,     0.86563,     0.86563,     0.86563,\n",
       "            0.86563,     0.86563,     0.86563,     0.86563,     0.86563,     0.86472,     0.86233,     0.86139,     0.86106,     0.86023,     0.86015,     0.85923,     0.85923,     0.85923,     0.85832,     0.85832,     0.85832,     0.85832,      0.8568,     0.85586,     0.85558,     0.85399,     0.85191,\n",
       "            0.85099,     0.85052,     0.84918,     0.84735,     0.84735,     0.84735,     0.84735,     0.84735,     0.84735,     0.84631,     0.84606,     0.84581,     0.84556,     0.84552,     0.84552,     0.84469,     0.84412,     0.84369,     0.84369,     0.84369,     0.84369,     0.84369,     0.84369,\n",
       "            0.84369,     0.84369,     0.84369,     0.84369,     0.84369,     0.84369,     0.84369,     0.84369,     0.84236,     0.84183,     0.84136,     0.84095,     0.84095,     0.84095,     0.84095,     0.84088,     0.84057,     0.84025,     0.84004,     0.84004,     0.84004,     0.84004,     0.83882,\n",
       "            0.83835,     0.83821,     0.83662,     0.83568,     0.83475,     0.83381,     0.83364,     0.83364,     0.83364,     0.83272,     0.83181,     0.83181,     0.83091,      0.8309,     0.83086,     0.82998,      0.8299,     0.82907,     0.82907,     0.82815,     0.82815,     0.82815,     0.82815,\n",
       "            0.82815,     0.82815,     0.82815,     0.82815,     0.82815,     0.82724,     0.82724,     0.82724,     0.82724,     0.82657,      0.8245,     0.82286,     0.82176,     0.82176,     0.82176,     0.82176,     0.82092,     0.82084,     0.81993,     0.81856,     0.81718,     0.81715,     0.81621,\n",
       "            0.81528,     0.81348,     0.81301,     0.81254,     0.81207,      0.8117,      0.8117,      0.8117,      0.8117,      0.8117,     0.81079,     0.81062,     0.81015,     0.80888,      0.8087,     0.80851,     0.80832,     0.80813,     0.80713,       0.807,     0.80677,     0.80653,      0.8063,\n",
       "            0.80561,     0.80284,     0.80191,     0.80006,     0.79982,     0.79982,     0.79982,     0.79982,     0.79982,     0.79982,     0.79898,     0.79799,     0.79777,     0.79753,      0.7973,     0.79704,      0.7961,     0.79517,     0.79423,     0.79342,     0.79342,     0.79142,     0.79048,\n",
       "            0.78965,     0.78918,      0.7878,     0.78733,     0.78671,     0.78503,     0.78456,      0.7839,     0.78296,     0.78203,     0.78018,     0.77947,       0.779,     0.77879,     0.77879,     0.77823,      0.7773,     0.77697,     0.77697,     0.77697,     0.77697,     0.77697,     0.77624,\n",
       "            0.77531,     0.77514,     0.77514,     0.77341,     0.77331,     0.77017,       0.766,       0.766,       0.766,       0.766,       0.764,     0.76368,     0.76337,     0.76267,     0.76173,      0.7608,     0.75777,     0.75777,     0.75777,     0.75777,     0.75777,     0.75777,     0.75737,\n",
       "            0.75691,     0.75602,     0.75594,     0.75594,     0.75594,     0.75594,     0.75593,     0.75555,     0.75518,     0.75447,     0.75411,     0.75411,     0.75411,     0.75255,     0.75161,     0.75137,     0.75137,     0.75137,     0.74969,     0.74954,     0.74873,     0.74734,     0.74548,\n",
       "            0.74476,     0.74429,     0.74303,     0.74279,     0.74256,     0.74232,     0.74223,     0.74132,     0.74107,      0.7407,     0.73929,     0.73835,     0.73766,     0.73648,     0.73554,     0.73461,     0.73367,     0.73273,      0.7305,     0.72949,     0.72855,      0.7267,     0.72576,\n",
       "            0.72391,     0.72303,     0.72301,     0.72274,     0.72248,     0.72221,     0.72089,     0.72042,     0.71938,     0.71938,     0.71846,     0.71755,     0.71755,     0.71722,     0.71554,     0.71507,      0.7118,     0.71117,     0.71025,     0.70841,     0.70837,     0.70652,     0.70567,\n",
       "            0.70567,     0.70537,     0.70491,     0.70412,     0.70136,     0.69927,     0.69927,     0.69927,     0.69927,     0.69864,     0.69835,     0.69754,     0.69744,     0.69567,     0.69561,     0.69561,     0.69355,     0.69308,     0.69161,     0.69096,     0.68739,     0.68634,     0.68434,\n",
       "            0.68341,     0.68294,     0.68236,     0.67983,     0.67903,     0.67856,     0.67824,     0.67824,     0.67824,     0.67733,      0.6755,     0.67459,     0.67459,     0.67367,      0.6732,      0.6727,     0.67179,     0.67117,     0.67002,     0.66961,      0.6691,      0.6691,     0.66683,\n",
       "             0.6643,     0.66399,     0.66368,     0.66179,     0.66157,     0.66094,     0.66004,     0.65819,     0.65497,     0.65338,     0.65301,     0.65265,     0.65161,     0.65082,     0.65045,     0.64978,     0.64793,     0.64613,     0.64551,     0.64192,     0.64144,      0.6405,     0.63927,\n",
       "            0.63894,     0.63815,     0.63504,     0.63442,     0.63259,     0.63163,     0.62935,     0.62797,     0.62793,     0.62693,     0.62431,     0.62431,     0.62327,     0.62126,     0.62002,     0.61931,     0.61876,     0.61844,     0.61813,     0.61498,     0.61436,     0.61255,     0.61161,\n",
       "            0.61022,     0.60796,     0.60727,     0.60695,     0.60602,     0.60504,     0.60369,     0.60307,      0.6027,      0.6012,     0.59939,     0.59902,     0.59832,     0.59713,     0.59482,     0.59324,     0.59324,     0.59141,     0.59141,     0.59141,     0.59057,     0.58872,     0.58867,\n",
       "            0.58867,     0.58591,     0.58545,     0.58501,     0.58484,     0.58219,     0.58157,     0.58074,      0.5766,     0.57455,      0.5729,     0.57205,     0.57142,      0.5708,     0.56947,      0.5673,     0.56581,     0.56497,     0.56226,     0.56216,     0.56125,      0.5585,     0.55726,\n",
       "             0.5548,     0.55418,     0.55188,     0.54988,     0.54814,     0.54619,      0.5456,     0.54513,      0.5443,     0.54224,      0.5413,     0.53931,     0.53772,     0.53575,     0.53199,     0.52976,     0.52791,     0.52541,     0.52504,     0.52372,     0.52194,     0.52005,     0.51943,\n",
       "            0.51802,     0.51463,     0.51463,     0.51371,     0.51371,     0.51359,     0.51312,      0.5128,     0.51125,     0.50972,      0.5089,     0.50828,     0.50823,     0.50554,     0.50366,      0.5009,     0.50028,     0.49909,     0.49617,     0.49505,     0.49438,     0.49345,     0.48885,\n",
       "            0.48771,     0.48652,     0.48467,     0.48392,     0.48305,     0.48247,     0.48201,     0.47953,     0.47768,     0.47491,     0.47354,     0.47258,     0.47071,     0.46705,     0.46611,     0.46527,     0.46527,     0.46335,     0.46272,     0.45914,      0.4566,     0.45385,     0.45085,\n",
       "            0.44918,      0.4476,     0.44698,     0.44698,     0.44443,     0.44277,     0.44214,     0.44152,     0.43876,     0.43049,     0.42679,     0.42491,     0.42304,     0.42025,     0.41897,     0.41834,     0.41787,     0.41489,     0.41442,     0.41175,     0.41079,     0.40618,     0.40247,\n",
       "            0.39694,     0.39233,     0.38535,     0.38442,     0.38214,     0.38208,     0.38161,     0.37743,     0.37555,     0.37331,     0.37055,      0.3681,     0.36623,     0.36225,       0.357,     0.35055,     0.34619,     0.34041,     0.33853,     0.33575,     0.33296,     0.32834,     0.32464,\n",
       "            0.32185,     0.31541,     0.31262,     0.30709,     0.30156,     0.29616,     0.29141,     0.28497,     0.27761,     0.27299,     0.26655,     0.26285,     0.25366,     0.24539,     0.23986,     0.23067,     0.22957,     0.22498,     0.22048,     0.21403,      0.2085,      0.2048,     0.20293,\n",
       "            0.19376,     0.18913,     0.18268,     0.17532,     0.16705,     0.16061,     0.14959,     0.14223,     0.13579,     0.13117,     0.11924,      0.1128,     0.10361,    0.096255,    0.092438,    0.089765,    0.085149,    0.080533,    0.077745,    0.068559,    0.064856,    0.057498,    0.053796,\n",
       "           0.050094,    0.046392,    0.040998,    0.040061,    0.038028,    0.034073,    0.033136,    0.029457,     0.02779,    0.025755,    0.023904,    0.022967,    0.020202,    0.017109,    0.016484,    0.013735,    0.012341,    0.011404,    0.010467,   0.0090096,   0.0087753,   0.0085411,   0.0083069,\n",
       "          0.0080506,   0.0077829,   0.0075152,   0.0070848,   0.0054389,   0.0052685,   0.0050982,   0.0049278,   0.0047575,   0.0045871,   0.0037254,   0.0030777,   0.0023085,  0.00091499,           0,           0,           0,           0,           0,           0,           0,           0,           0,\n",
       "                  0,           0,           0,           0,           0,           0,           0,           0,           0,           0,           0]]), 'Confidence', 'Recall']]\n",
       "fitness: 0.749841739640602\n",
       "keys: ['metrics/precision(B)', 'metrics/recall(B)', 'metrics/mAP50(B)', 'metrics/mAP50-95(B)']\n",
       "maps: array([    0.73194,     0.73194])\n",
       "names: {0: '-', 1: 'pallet'}\n",
       "plot: True\n",
       "results_dict: {'metrics/precision(B)': 0.818070699846647, 'metrics/recall(B)': 0.8436928702010968, 'metrics/mAP50(B)': 0.9109861440897878, 'metrics/mAP50-95(B)': 0.7319368058129146, 'fitness': 0.749841739640602}\n",
       "save_dir: PosixPath('runs/detect/train41')\n",
       "speed: {'preprocess': 0.2689903592090974, 'inference': 6.792106523592779, 'loss': 0.000804190259346697, 'postprocess': 0.286030852358432}\n",
       "task: 'detect'"
      ]
     },
     "execution_count": 1,
     "metadata": {},
     "output_type": "execute_result"
    }
   ],
   "source": [
    "from ultralytics import YOLO\n",
    "\n",
    "model = YOLO(\"/home/chandhan/Desktop/runs/detect/train39/weights/best.pt\")\n",
    "\n",
    "model.train(data = \"/home/chandhan/Downloads/dataset_april_22_0/data.yaml\", imgsz = \"640\", batch = 12, epochs = 10, workers = 8, device = 0, patience = 30)"
   ]
  },
  {
   "cell_type": "code",
   "execution_count": 18,
   "id": "3f1710a2",
   "metadata": {},
   "outputs": [
    {
     "data": {
      "text/plain": [
       "{'train': 1070, 'val': 133, 'test': 135}"
      ]
     },
     "execution_count": 18,
     "metadata": {},
     "output_type": "execute_result"
    }
   ],
   "source": [
    "import os\n",
    "import shutil\n",
    "import random\n",
    "\n",
    "# Paths\n",
    "images_path = \"/home/chandhan/Downloads/segmentation/images\"\n",
    "masks_path = \"/home/chandhan/Downloads/segmentation/mask\"\n",
    "output_base = \"/home/chandhan/Downloads/segmentation/seg_dataset\"\n",
    "\n",
    "# Output structure\n",
    "splits = ['train', 'val', 'test']\n",
    "split_ratio = [0.8, 0.1, 0.1]\n",
    "\n",
    "for split in splits:\n",
    "    os.makedirs(os.path.join(output_base, 'images', split), exist_ok=True)\n",
    "    os.makedirs(os.path.join(output_base, 'masks', split), exist_ok=True)\n",
    "\n",
    "# List and shuffle filenames\n",
    "image_filenames = [f for f in os.listdir(images_path) if f.lower().endswith(('.jpg', '.jpeg', '.png'))]\n",
    "random.seed(42)\n",
    "random.shuffle(image_filenames)\n",
    "\n",
    "# Split indices\n",
    "n_total = len(image_filenames)\n",
    "n_train = int(n_total * split_ratio[0])\n",
    "n_val = int(n_total * split_ratio[1])\n",
    "\n",
    "split_indices = {\n",
    "    'train': image_filenames[:n_train],\n",
    "    'val': image_filenames[n_train:n_train + n_val],\n",
    "    'test': image_filenames[n_train + n_val:]\n",
    "}\n",
    "\n",
    "# Move files\n",
    "for split, filenames in split_indices.items():\n",
    "    for fname in filenames:\n",
    "        base = os.path.splitext(fname)[0]\n",
    "        mask_name = base + \".png\"\n",
    "\n",
    "        src_img = os.path.join(images_path, fname)\n",
    "        src_mask = os.path.join(masks_path, mask_name)\n",
    "\n",
    "        dst_img = os.path.join(output_base, 'images', split, fname)\n",
    "        dst_mask = os.path.join(output_base, 'masks', split, mask_name)\n",
    "\n",
    "        if os.path.isfile(src_img) and os.path.isfile(src_mask):\n",
    "            shutil.copy2(src_img, dst_img)\n",
    "            shutil.copy2(src_mask, dst_mask)\n",
    "\n",
    "split_counts = {k: len(v) for k, v in split_indices.items()}\n",
    "split_counts\n"
   ]
  },
  {
   "cell_type": "code",
   "execution_count": null,
   "id": "1f1dab85",
   "metadata": {},
   "outputs": [],
   "source": [
    "import cv2\n",
    "import numpy as np\n",
    "import os\n",
    "\n",
    "# Base paths\n",
    "mask_base_dir = \"/home/chandhan/Downloads/segmentation/seg_dataset/masks\"\n",
    "label_base_dir = \"/home/chandhan/Downloads/segmentation/seg_dataset/labels\"\n",
    "splits = ['train', 'val', 'test']\n",
    "class_id = 0 \n",
    "\n",
    "# Create label folders\n",
    "for split in splits:\n",
    "    os.makedirs(os.path.join(label_base_dir, split), exist_ok=True)\n",
    "\n",
    "# Process each mask file\n",
    "for split in splits:\n",
    "    mask_dir = os.path.join(mask_base_dir, split)\n",
    "    label_dir = os.path.join(label_base_dir, split)\n",
    "    mask_files = [f for f in os.listdir(mask_dir) if f.endswith('.png')]\n",
    "\n",
    "    for fname in mask_files:\n",
    "        mask_path = os.path.join(mask_dir, fname)\n",
    "        mask = cv2.imread(mask_path, cv2.IMREAD_GRAYSCALE)\n",
    "\n",
    "        _, binary = cv2.threshold(mask, 127, 255, cv2.THRESH_BINARY)\n",
    "        contours, _ = cv2.findContours(binary, cv2.RETR_EXTERNAL, cv2.CHAIN_APPROX_SIMPLE)\n",
    "\n",
    "        if not contours:\n",
    "            continue\n",
    "\n",
    "        # Get largest contour\n",
    "        contour = max(contours, key=cv2.contourArea)\n",
    "\n",
    "        # Normalize points\n",
    "        h, w = mask.shape\n",
    "        normalized = []\n",
    "        for pt in contour:\n",
    "            x, y = pt[0]\n",
    "            normalized.append(f\"{x / w:.6f} {y / h:.6f}\")\n",
    "\n",
    "        # Save YOLO polygon label\n",
    "        label_path = os.path.join(label_dir, fname.replace(\".png\", \".txt\"))\n",
    "        with open(label_path, \"w\") as f:\n",
    "            f.write(f\"{class_id} \" + \" \".join(normalized) + \"\\n\")\n"
   ]
  },
  {
   "cell_type": "code",
   "execution_count": null,
   "id": "5371ca8d",
   "metadata": {},
   "outputs": [
    {
     "name": "stdout",
     "output_type": "stream",
     "text": [
      "Downloading https://github.com/ultralytics/assets/releases/download/v8.3.0/yolo11n-seg.pt to 'yolo11n-seg.pt'...\n"
     ]
    },
    {
     "name": "stderr",
     "output_type": "stream",
     "text": [
      "100%|██████████| 5.90M/5.90M [00:00<00:00, 35.6MB/s]\n"
     ]
    },
    {
     "name": "stdout",
     "output_type": "stream",
     "text": [
      "Ultralytics 8.3.111 🚀 Python-3.10.12 torch-2.6.0+cu118 CUDA:0 (NVIDIA GeForce RTX 4070 Laptop GPU, 7933MiB)\n",
      "\u001b[34m\u001b[1mengine/trainer: \u001b[0mtask=segment, mode=train, model=yolo11n-seg.pt, data=/home/chandhan/Downloads/segmentation/seg_dataset/seg_data.yaml, epochs=100, time=None, patience=100, batch=8, imgsz=640, save=True, save_period=-1, cache=False, device=0, workers=8, project=None, name=train, exist_ok=False, pretrained=True, optimizer=auto, verbose=True, seed=0, deterministic=True, single_cls=False, rect=False, cos_lr=False, close_mosaic=10, resume=False, amp=True, fraction=1.0, profile=False, freeze=None, multi_scale=False, overlap_mask=True, mask_ratio=4, dropout=0.0, val=True, split=val, save_json=False, conf=None, iou=0.7, max_det=300, half=False, dnn=False, plots=True, source=None, vid_stride=1, stream_buffer=False, visualize=False, augment=False, agnostic_nms=False, classes=None, retina_masks=False, embed=None, show=False, save_frames=False, save_txt=False, save_conf=False, save_crop=False, show_labels=True, show_conf=True, show_boxes=True, line_width=None, format=torchscript, keras=False, optimize=False, int8=False, dynamic=False, simplify=True, opset=None, workspace=None, nms=False, lr0=0.01, lrf=0.01, momentum=0.937, weight_decay=0.0005, warmup_epochs=3.0, warmup_momentum=0.8, warmup_bias_lr=0.1, box=7.5, cls=0.5, dfl=1.5, pose=12.0, kobj=1.0, nbs=64, hsv_h=0.015, hsv_s=0.7, hsv_v=0.4, degrees=0.0, translate=0.1, scale=0.5, shear=0.0, perspective=0.0, flipud=0.0, fliplr=0.5, bgr=0.0, mosaic=1.0, mixup=0.0, copy_paste=0.0, copy_paste_mode=flip, auto_augment=randaugment, erasing=0.4, cfg=None, tracker=botsort.yaml, save_dir=runs/segment/train\n",
      "Overriding model.yaml nc=80 with nc=1\n",
      "\n",
      "                   from  n    params  module                                       arguments                     \n",
      "  0                  -1  1       464  ultralytics.nn.modules.conv.Conv             [3, 16, 3, 2]                 \n",
      "  1                  -1  1      4672  ultralytics.nn.modules.conv.Conv             [16, 32, 3, 2]                \n",
      "  2                  -1  1      6640  ultralytics.nn.modules.block.C3k2            [32, 64, 1, False, 0.25]      \n",
      "  3                  -1  1     36992  ultralytics.nn.modules.conv.Conv             [64, 64, 3, 2]                \n",
      "  4                  -1  1     26080  ultralytics.nn.modules.block.C3k2            [64, 128, 1, False, 0.25]     \n",
      "  5                  -1  1    147712  ultralytics.nn.modules.conv.Conv             [128, 128, 3, 2]              \n",
      "  6                  -1  1     87040  ultralytics.nn.modules.block.C3k2            [128, 128, 1, True]           \n",
      "  7                  -1  1    295424  ultralytics.nn.modules.conv.Conv             [128, 256, 3, 2]              \n",
      "  8                  -1  1    346112  ultralytics.nn.modules.block.C3k2            [256, 256, 1, True]           \n",
      "  9                  -1  1    164608  ultralytics.nn.modules.block.SPPF            [256, 256, 5]                 \n",
      " 10                  -1  1    249728  ultralytics.nn.modules.block.C2PSA           [256, 256, 1]                 \n",
      " 11                  -1  1         0  torch.nn.modules.upsampling.Upsample         [None, 2, 'nearest']          \n",
      " 12             [-1, 6]  1         0  ultralytics.nn.modules.conv.Concat           [1]                           \n",
      " 13                  -1  1    111296  ultralytics.nn.modules.block.C3k2            [384, 128, 1, False]          \n",
      " 14                  -1  1         0  torch.nn.modules.upsampling.Upsample         [None, 2, 'nearest']          \n",
      " 15             [-1, 4]  1         0  ultralytics.nn.modules.conv.Concat           [1]                           \n",
      " 16                  -1  1     32096  ultralytics.nn.modules.block.C3k2            [256, 64, 1, False]           \n",
      " 17                  -1  1     36992  ultralytics.nn.modules.conv.Conv             [64, 64, 3, 2]                \n",
      " 18            [-1, 13]  1         0  ultralytics.nn.modules.conv.Concat           [1]                           \n",
      " 19                  -1  1     86720  ultralytics.nn.modules.block.C3k2            [192, 128, 1, False]          \n",
      " 20                  -1  1    147712  ultralytics.nn.modules.conv.Conv             [128, 128, 3, 2]              \n",
      " 21            [-1, 10]  1         0  ultralytics.nn.modules.conv.Concat           [1]                           \n",
      " 22                  -1  1    378880  ultralytics.nn.modules.block.C3k2            [384, 256, 1, True]           \n",
      " 23        [16, 19, 22]  1    683635  ultralytics.nn.modules.head.Segment          [1, 32, 64, [64, 128, 256]]   \n",
      "YOLO11n-seg summary: 203 layers, 2,842,803 parameters, 2,842,787 gradients, 10.4 GFLOPs\n",
      "\n",
      "Transferred 510/561 items from pretrained weights\n",
      "Freezing layer 'model.23.dfl.conv.weight'\n",
      "\u001b[34m\u001b[1mAMP: \u001b[0mrunning Automatic Mixed Precision (AMP) checks...\n",
      "\u001b[34m\u001b[1mAMP: \u001b[0mchecks passed ✅\n",
      "\u001b[34m\u001b[1mtrain: \u001b[0mFast image access ✅ (ping: 0.0±0.0 ms, read: 3635.8±1370.8 MB/s, size: 85.8 KB)\n"
     ]
    },
    {
     "name": "stderr",
     "output_type": "stream",
     "text": [
      "\u001b[34m\u001b[1mtrain: \u001b[0mScanning /home/chandhan/Downloads/segmentation/seg_dataset/labels/train... 1070 images, 0 backgrounds, 0 corrupt: 100%|██████████| 1070/1070 [00:00<00:00, 2732.07it/s]\n"
     ]
    },
    {
     "name": "stdout",
     "output_type": "stream",
     "text": [
      "\u001b[34m\u001b[1mtrain: \u001b[0mNew cache created: /home/chandhan/Downloads/segmentation/seg_dataset/labels/train.cache\n",
      "\u001b[34m\u001b[1mval: \u001b[0mFast image access ✅ (ping: 0.0±0.0 ms, read: 1417.9±672.0 MB/s, size: 88.3 KB)\n"
     ]
    },
    {
     "name": "stderr",
     "output_type": "stream",
     "text": [
      "\u001b[34m\u001b[1mval: \u001b[0mScanning /home/chandhan/Downloads/segmentation/seg_dataset/labels/val... 133 images, 0 backgrounds, 0 corrupt: 100%|██████████| 133/133 [00:00<00:00, 1654.31it/s]"
     ]
    },
    {
     "name": "stdout",
     "output_type": "stream",
     "text": [
      "\u001b[34m\u001b[1mval: \u001b[0mNew cache created: /home/chandhan/Downloads/segmentation/seg_dataset/labels/val.cache\n"
     ]
    },
    {
     "name": "stderr",
     "output_type": "stream",
     "text": [
      "\n"
     ]
    },
    {
     "name": "stdout",
     "output_type": "stream",
     "text": [
      "Plotting labels to runs/segment/train/labels.jpg... \n"
     ]
    }
   ],
   "source": [
    "from ultralytics import YOLO\n",
    "\n",
    "model = YOLO(\"yolo11n-seg.pt\")  # or yolo11s-seg.pt, etc.\n",
    "model.train(\n",
    "    data=\"/home/chandhan/Downloads/segmentation/seg_dataset/seg_data.yaml\",\n",
    "    imgsz=640,\n",
    "    epochs=100,\n",
    "    batch=8,\n",
    "    device=0\n",
    ")"
   ]
  },
  {
   "cell_type": "code",
   "execution_count": 4,
   "id": "d88ecc5e",
   "metadata": {},
   "outputs": [
    {
     "name": "stdout",
     "output_type": "stream",
     "text": [
      "Ultralytics 8.3.111 🚀 Python-3.10.12 torch-2.6.0+cu118 CUDA:0 (NVIDIA GeForce RTX 4070 Laptop GPU, 7933MiB)\n",
      "YOLO11n-seg summary (fused): 113 layers, 2,834,763 parameters, 0 gradients, 10.2 GFLOPs\n",
      "\u001b[34m\u001b[1mval: \u001b[0mFast image access ✅ (ping: 0.0±0.1 ms, read: 541.4±86.7 MB/s, size: 77.0 KB)\n"
     ]
    },
    {
     "name": "stderr",
     "output_type": "stream",
     "text": [
      "\u001b[34m\u001b[1mval: \u001b[0mScanning /home/chandhan/Downloads/segmentation/seg_dataset/labels/val.cache... 133 images, 0 backgrounds, 0 corrupt: 100%|██████████| 133/133 [00:00<?, ?it/s]\n",
      "                 Class     Images  Instances      Box(P          R      mAP50  mAP50-95)     Mask(P          R      mAP50  mAP50-95): 100%|██████████| 9/9 [00:01<00:00,  7.23it/s]\n"
     ]
    },
    {
     "name": "stdout",
     "output_type": "stream",
     "text": [
      "                   all        133        133       0.97      0.974      0.992      0.976       0.97      0.974       0.99      0.966\n",
      "Speed: 1.0ms preprocess, 3.3ms inference, 0.0ms loss, 0.7ms postprocess per image\n",
      "Results saved to \u001b[1mruns/segment/val\u001b[0m\n",
      "📊 Box mAP: 0.9764880028422762\n",
      "📊 Segmentation mAP: 0.9663929990386295\n"
     ]
    }
   ],
   "source": [
    "from ultralytics import YOLO\n",
    "\n",
    "model = YOLO(\"/home/chandhan/Desktop/runs/segment/train/weights/best.pt\")\n",
    "results = model.val()\n",
    "print(\"📊 Box mAP:\", results.box.map)\n",
    "print(\"📊 Segmentation mAP:\", results.seg.map)\n"
   ]
  }
 ],
 "metadata": {
  "kernelspec": {
   "display_name": "Python 3",
   "language": "python",
   "name": "python3"
  },
  "language_info": {
   "codemirror_mode": {
    "name": "ipython",
    "version": 3
   },
   "file_extension": ".py",
   "mimetype": "text/x-python",
   "name": "python",
   "nbconvert_exporter": "python",
   "pygments_lexer": "ipython3",
   "version": "3.10.12"
  }
 },
 "nbformat": 4,
 "nbformat_minor": 5
}
